{
 "cells": [
  {
   "cell_type": "markdown",
   "metadata": {},
   "source": [
    "# Data types\n",
    "1.int\n",
    "2.string\n",
    "3.booleans\n",
    "\n",
    "to get data type \n",
    "type(variable)"
   ]
  },
  {
   "cell_type": "code",
   "execution_count": 1,
   "metadata": {},
   "outputs": [],
   "source": [
    "a=1\n",
    "d=2.4\n",
    "b=\"keshav\"\n",
    "c=True"
   ]
  },
  {
   "cell_type": "code",
   "execution_count": 2,
   "metadata": {},
   "outputs": [
    {
     "data": {
      "text/plain": [
       "int"
      ]
     },
     "execution_count": 2,
     "metadata": {},
     "output_type": "execute_result"
    }
   ],
   "source": [
    "type(a)"
   ]
  },
  {
   "cell_type": "code",
   "execution_count": 3,
   "metadata": {},
   "outputs": [
    {
     "data": {
      "text/plain": [
       "str"
      ]
     },
     "execution_count": 3,
     "metadata": {},
     "output_type": "execute_result"
    }
   ],
   "source": [
    "type(b)"
   ]
  },
  {
   "cell_type": "code",
   "execution_count": 4,
   "metadata": {},
   "outputs": [
    {
     "data": {
      "text/plain": [
       "bool"
      ]
     },
     "execution_count": 4,
     "metadata": {},
     "output_type": "execute_result"
    }
   ],
   "source": [
    "type(c)"
   ]
  },
  {
   "cell_type": "code",
   "execution_count": 5,
   "metadata": {},
   "outputs": [
    {
     "data": {
      "text/plain": [
       "float"
      ]
     },
     "execution_count": 5,
     "metadata": {},
     "output_type": "execute_result"
    }
   ],
   "source": [
    "type(d)"
   ]
  },
  {
   "cell_type": "code",
   "execution_count": 6,
   "metadata": {},
   "outputs": [
    {
     "data": {
      "text/plain": [
       "int"
      ]
     },
     "execution_count": 6,
     "metadata": {},
     "output_type": "execute_result"
    }
   ],
   "source": [
    "type(80)"
   ]
  },
  {
   "cell_type": "code",
   "execution_count": 7,
   "metadata": {},
   "outputs": [
    {
     "data": {
      "text/plain": [
       "bool"
      ]
     },
     "execution_count": 7,
     "metadata": {},
     "output_type": "execute_result"
    }
   ],
   "source": [
    "type(7>9)"
   ]
  },
  {
   "cell_type": "markdown",
   "metadata": {},
   "source": [
    "# casting Data Types"
   ]
  },
  {
   "cell_type": "code",
   "execution_count": 8,
   "metadata": {},
   "outputs": [
    {
     "data": {
      "text/plain": [
       "2"
      ]
     },
     "execution_count": 8,
     "metadata": {},
     "output_type": "execute_result"
    }
   ],
   "source": [
    "ff=int(2.7)\n",
    "ff"
   ]
  },
  {
   "cell_type": "code",
   "execution_count": 9,
   "metadata": {},
   "outputs": [
    {
     "data": {
      "text/plain": [
       "int"
      ]
     },
     "execution_count": 9,
     "metadata": {},
     "output_type": "execute_result"
    }
   ],
   "source": [
    "type(ff)"
   ]
  },
  {
   "cell_type": "code",
   "execution_count": 10,
   "metadata": {},
   "outputs": [
    {
     "data": {
      "text/plain": [
       "'3'"
      ]
     },
     "execution_count": 10,
     "metadata": {},
     "output_type": "execute_result"
    }
   ],
   "source": [
    "s=str(3)\n",
    "s"
   ]
  },
  {
   "cell_type": "code",
   "execution_count": 11,
   "metadata": {},
   "outputs": [
    {
     "data": {
      "text/plain": [
       "str"
      ]
     },
     "execution_count": 11,
     "metadata": {},
     "output_type": "execute_result"
    }
   ],
   "source": [
    "type(s)"
   ]
  },
  {
   "cell_type": "markdown",
   "metadata": {},
   "source": [
    "# variables\n",
    "## it is a container which store data values\n",
    "### example-   x=8  x is varianle and 8 is value assign to x\n",
    "### it's case sensitive\n"
   ]
  },
  {
   "cell_type": "code",
   "execution_count": 12,
   "metadata": {},
   "outputs": [
    {
     "data": {
      "text/plain": [
       "'keshav'"
      ]
     },
     "execution_count": 12,
     "metadata": {},
     "output_type": "execute_result"
    }
   ],
   "source": [
    "name=\"keshav\"\n",
    "name"
   ]
  },
  {
   "cell_type": "code",
   "execution_count": 13,
   "metadata": {},
   "outputs": [
    {
     "data": {
      "text/plain": [
       "str"
      ]
     },
     "execution_count": 13,
     "metadata": {},
     "output_type": "execute_result"
    }
   ],
   "source": [
    "type(name)\n"
   ]
  },
  {
   "cell_type": "markdown",
   "metadata": {},
   "source": [
    "# list\n",
    "## list is a collection of  homogeneous objects\n",
    "## it is mutable\n",
    "## we can create a list by [] "
   ]
  },
  {
   "cell_type": "code",
   "execution_count": 14,
   "metadata": {},
   "outputs": [
    {
     "data": {
      "text/plain": [
       "[1, 2, 3, 4, 'keshav', True]"
      ]
     },
     "execution_count": 14,
     "metadata": {},
     "output_type": "execute_result"
    }
   ],
   "source": [
    "list1=[1,2,3,4,\"keshav\",True]\n",
    "list1"
   ]
  },
  {
   "cell_type": "code",
   "execution_count": 15,
   "metadata": {},
   "outputs": [
    {
     "data": {
      "text/plain": [
       "list"
      ]
     },
     "execution_count": 15,
     "metadata": {},
     "output_type": "execute_result"
    }
   ],
   "source": [
    "type(list1)"
   ]
  },
  {
   "cell_type": "code",
   "execution_count": 16,
   "metadata": {},
   "outputs": [
    {
     "data": {
      "text/plain": [
       "str"
      ]
     },
     "execution_count": 16,
     "metadata": {},
     "output_type": "execute_result"
    }
   ],
   "source": [
    "type(list1[4]) # type of 4th index value"
   ]
  },
  {
   "cell_type": "code",
   "execution_count": 17,
   "metadata": {},
   "outputs": [
    {
     "data": {
      "text/plain": [
       "'keshav'"
      ]
     },
     "execution_count": 17,
     "metadata": {},
     "output_type": "execute_result"
    }
   ],
   "source": [
    "list1[-2] #this is negative indexing it show u value from last or back"
   ]
  },
  {
   "cell_type": "code",
   "execution_count": 18,
   "metadata": {},
   "outputs": [
    {
     "data": {
      "text/plain": [
       "['aman', 2, 3, 4, 'keshav', True]"
      ]
     },
     "execution_count": 18,
     "metadata": {},
     "output_type": "execute_result"
    }
   ],
   "source": [
    "#change value of index \n",
    "list1[0]=\"aman\"\n",
    "list1"
   ]
  },
  {
   "cell_type": "code",
   "execution_count": 19,
   "metadata": {},
   "outputs": [
    {
     "data": {
      "text/plain": [
       "['aman', 2, 3, 4, 'keshav', True, 'mohan']"
      ]
     },
     "execution_count": 19,
     "metadata": {},
     "output_type": "execute_result"
    }
   ],
   "source": [
    "# add a new iteam to a list\n",
    "list1.append(\"mohan\")\n",
    "list1"
   ]
  },
  {
   "cell_type": "code",
   "execution_count": 20,
   "metadata": {},
   "outputs": [
    {
     "data": {
      "text/plain": [
       "[1, 5, 8, ['aman', 2, 3, 4, 'keshav', True, 'mohan']]"
      ]
     },
     "execution_count": 20,
     "metadata": {},
     "output_type": "execute_result"
    }
   ],
   "source": [
    "# list inside a list\n",
    "list2=[1,5,8,list1]\n",
    "list2"
   ]
  },
  {
   "cell_type": "code",
   "execution_count": 21,
   "metadata": {},
   "outputs": [
    {
     "data": {
      "text/plain": [
       "'mohan'"
      ]
     },
     "execution_count": 21,
     "metadata": {},
     "output_type": "execute_result"
    }
   ],
   "source": [
    "# remove a value from list\n",
    "#pop automatically remove value from list from back if u dont \n",
    "# provide any index\n",
    "list1.pop()\n"
   ]
  },
  {
   "cell_type": "code",
   "execution_count": 22,
   "metadata": {},
   "outputs": [
    {
     "data": {
      "text/plain": [
       "3"
      ]
     },
     "execution_count": 22,
     "metadata": {},
     "output_type": "execute_result"
    }
   ],
   "source": [
    "list1.pop(2)"
   ]
  },
  {
   "cell_type": "code",
   "execution_count": 23,
   "metadata": {},
   "outputs": [
    {
     "name": "stdout",
     "output_type": "stream",
     "text": [
      "aman\n",
      "2\n",
      "4\n",
      "keshav\n",
      "True\n"
     ]
    }
   ],
   "source": [
    "# loop in list\n",
    "for ele in list1:\n",
    "    print(ele)"
   ]
  },
  {
   "cell_type": "code",
   "execution_count": 24,
   "metadata": {},
   "outputs": [
    {
     "data": {
      "text/plain": [
       "5"
      ]
     },
     "execution_count": 24,
     "metadata": {},
     "output_type": "execute_result"
    }
   ],
   "source": [
    "#element in a list\n",
    "len(list1)"
   ]
  },
  {
   "cell_type": "code",
   "execution_count": 25,
   "metadata": {},
   "outputs": [],
   "source": [
    "#clear a list\n",
    "list1.clear()"
   ]
  },
  {
   "cell_type": "code",
   "execution_count": 26,
   "metadata": {},
   "outputs": [
    {
     "data": {
      "text/plain": [
       "[]"
      ]
     },
     "execution_count": 26,
     "metadata": {},
     "output_type": "execute_result"
    }
   ],
   "source": [
    "list1"
   ]
  },
  {
   "cell_type": "code",
   "execution_count": 27,
   "metadata": {},
   "outputs": [
    {
     "data": {
      "text/plain": [
       "[67, 23, 21, 67, 4, 9]"
      ]
     },
     "execution_count": 27,
     "metadata": {},
     "output_type": "execute_result"
    }
   ],
   "source": [
    "list3=[9,4,67,21,23,67]\n",
    "rev=list3.reverse()\n",
    "list3"
   ]
  },
  {
   "cell_type": "markdown",
   "metadata": {},
   "source": [
    "# sort() and sorted()\n",
    "## sort() change the orignal list however sorted() just change in instance"
   ]
  },
  {
   "cell_type": "code",
   "execution_count": 28,
   "metadata": {},
   "outputs": [
    {
     "data": {
      "text/plain": [
       "[4, 9, 21, 23, 67, 67]"
      ]
     },
     "execution_count": 28,
     "metadata": {},
     "output_type": "execute_result"
    }
   ],
   "source": [
    "list3.sort()\n",
    "list3"
   ]
  },
  {
   "cell_type": "code",
   "execution_count": 29,
   "metadata": {},
   "outputs": [
    {
     "data": {
      "text/plain": [
       "[4, 9, 21, 23, 67, 67]"
      ]
     },
     "execution_count": 29,
     "metadata": {},
     "output_type": "execute_result"
    }
   ],
   "source": [
    "sorted(list3)"
   ]
  },
  {
   "cell_type": "code",
   "execution_count": 30,
   "metadata": {},
   "outputs": [
    {
     "data": {
      "text/plain": [
       "[4, 9, 21, 23, 67, 67]"
      ]
     },
     "execution_count": 30,
     "metadata": {},
     "output_type": "execute_result"
    }
   ],
   "source": [
    "list3"
   ]
  },
  {
   "cell_type": "code",
   "execution_count": 31,
   "metadata": {},
   "outputs": [
    {
     "data": {
      "text/plain": [
       "[9, 23]"
      ]
     },
     "execution_count": 31,
     "metadata": {},
     "output_type": "execute_result"
    }
   ],
   "source": [
    "# we can select a range of no\n",
    "#[start:end:stap size]\n",
    "list3[1:4:2] "
   ]
  },
  {
   "cell_type": "code",
   "execution_count": 32,
   "metadata": {},
   "outputs": [],
   "source": [
    "# here i am going to split these strings\n",
    "#if sapration is done by space then leave split(\"\") blank\n",
    "#otherwise put sapration value in (\"\") like ,"
   ]
  },
  {
   "cell_type": "code",
   "execution_count": 33,
   "metadata": {},
   "outputs": [],
   "source": [
    "k=\"hello i am keshav sharma\"\n",
    "p=\"hello,i,am,keshav,sharma\""
   ]
  },
  {
   "cell_type": "code",
   "execution_count": 34,
   "metadata": {},
   "outputs": [
    {
     "data": {
      "text/plain": [
       "['hello', 'i', 'am', 'keshav', 'sharma']"
      ]
     },
     "execution_count": 34,
     "metadata": {},
     "output_type": "execute_result"
    }
   ],
   "source": [
    "kk=k.split()\n",
    "kk"
   ]
  },
  {
   "cell_type": "code",
   "execution_count": 35,
   "metadata": {},
   "outputs": [
    {
     "data": {
      "text/plain": [
       "['hello', 'i', 'am', 'keshav', 'sharma']"
      ]
     },
     "execution_count": 35,
     "metadata": {},
     "output_type": "execute_result"
    }
   ],
   "source": [
    "pp=p.split(\",\")\n",
    "pp"
   ]
  },
  {
   "cell_type": "markdown",
   "metadata": {},
   "source": [
    "# Tuble\n",
    "## tuple is a collection of  homogeneous objects\n",
    "## it is immutable\n",
    "## we can create a list by ()"
   ]
  },
  {
   "cell_type": "code",
   "execution_count": 36,
   "metadata": {},
   "outputs": [
    {
     "data": {
      "text/plain": [
       "('aman', 'raman', 'keshav', 1, 2, 3, 5)"
      ]
     },
     "execution_count": 36,
     "metadata": {},
     "output_type": "execute_result"
    }
   ],
   "source": [
    "t=(\"aman\",\"raman\",\"keshav\",1,2,3,5)\n",
    "t"
   ]
  },
  {
   "cell_type": "code",
   "execution_count": 37,
   "metadata": {},
   "outputs": [
    {
     "data": {
      "text/plain": [
       "'raman'"
      ]
     },
     "execution_count": 37,
     "metadata": {},
     "output_type": "execute_result"
    }
   ],
   "source": [
    "t[1]\n"
   ]
  },
  {
   "cell_type": "code",
   "execution_count": 38,
   "metadata": {},
   "outputs": [
    {
     "data": {
      "text/plain": [
       "('raman', 1)"
      ]
     },
     "execution_count": 38,
     "metadata": {},
     "output_type": "execute_result"
    }
   ],
   "source": [
    "t[1:4:2]"
   ]
  },
  {
   "cell_type": "code",
   "execution_count": 39,
   "metadata": {},
   "outputs": [
    {
     "data": {
      "text/plain": [
       "3"
      ]
     },
     "execution_count": 39,
     "metadata": {},
     "output_type": "execute_result"
    }
   ],
   "source": [
    "t[-2]\n"
   ]
  },
  {
   "cell_type": "code",
   "execution_count": 40,
   "metadata": {},
   "outputs": [],
   "source": [
    "# you can not change value \n",
    "#t[0]=\"aman\""
   ]
  },
  {
   "cell_type": "code",
   "execution_count": 41,
   "metadata": {},
   "outputs": [
    {
     "data": {
      "text/plain": [
       "7"
      ]
     },
     "execution_count": 41,
     "metadata": {},
     "output_type": "execute_result"
    }
   ],
   "source": [
    "len(t)\n"
   ]
  },
  {
   "cell_type": "code",
   "execution_count": 42,
   "metadata": {},
   "outputs": [
    {
     "name": "stdout",
     "output_type": "stream",
     "text": [
      "aman\n",
      "raman\n",
      "keshav\n",
      "1\n",
      "2\n",
      "3\n",
      "5\n"
     ]
    }
   ],
   "source": [
    "for i in t:\n",
    "    print(i)"
   ]
  },
  {
   "cell_type": "code",
   "execution_count": 43,
   "metadata": {},
   "outputs": [
    {
     "data": {
      "text/plain": [
       "('a', 'b', 'c', 1, 2, 3, 4)"
      ]
     },
     "execution_count": 43,
     "metadata": {},
     "output_type": "execute_result"
    }
   ],
   "source": [
    "ch=(\"a\",\"b\",\"c\")\n",
    "num=(1,2,3,4)\n",
    "ch_num=ch+num\n",
    "ch_num"
   ]
  },
  {
   "cell_type": "markdown",
   "metadata": {},
   "source": [
    "# Dictonary \n",
    "## it is a collection of key value pairs, changeable and does not allow duplicates\n"
   ]
  },
  {
   "cell_type": "code",
   "execution_count": 44,
   "metadata": {},
   "outputs": [],
   "source": [
    "stu={\"keshav\":\"sharma\",\n",
    "    \"aman\":\"kumar\",\n",
    "    \"kritika\":\"pal\",\n",
    "    \"rahul\":\"tyagi\"}"
   ]
  },
  {
   "cell_type": "code",
   "execution_count": 45,
   "metadata": {},
   "outputs": [
    {
     "data": {
      "text/plain": [
       "{'keshav': 'sharma', 'aman': 'kumar', 'kritika': 'pal', 'rahul': 'tyagi'}"
      ]
     },
     "execution_count": 45,
     "metadata": {},
     "output_type": "execute_result"
    }
   ],
   "source": [
    "stu\n"
   ]
  },
  {
   "cell_type": "markdown",
   "metadata": {},
   "source": [
    "* search value by using[key] or dict.get(\"key\")"
   ]
  },
  {
   "cell_type": "code",
   "execution_count": 46,
   "metadata": {},
   "outputs": [
    {
     "data": {
      "text/plain": [
       "'sharma'"
      ]
     },
     "execution_count": 46,
     "metadata": {},
     "output_type": "execute_result"
    }
   ],
   "source": [
    "stu[\"keshav\"]"
   ]
  },
  {
   "cell_type": "code",
   "execution_count": 47,
   "metadata": {},
   "outputs": [
    {
     "data": {
      "text/plain": [
       "'tyagi'"
      ]
     },
     "execution_count": 47,
     "metadata": {},
     "output_type": "execute_result"
    }
   ],
   "source": [
    "stu.get(\"rahul\")"
   ]
  },
  {
   "cell_type": "code",
   "execution_count": 48,
   "metadata": {},
   "outputs": [],
   "source": [
    "stu[\"rahul\"]=\"sharma\""
   ]
  },
  {
   "cell_type": "code",
   "execution_count": 49,
   "metadata": {},
   "outputs": [],
   "source": [
    "#add  a value\n",
    "stu['pawna']=\"chou.\""
   ]
  },
  {
   "cell_type": "code",
   "execution_count": 50,
   "metadata": {},
   "outputs": [
    {
     "data": {
      "text/plain": [
       "{'keshav': 'sharma',\n",
       " 'aman': 'kumar',\n",
       " 'kritika': 'pal',\n",
       " 'rahul': 'sharma',\n",
       " 'pawna': 'chou.'}"
      ]
     },
     "execution_count": 50,
     "metadata": {},
     "output_type": "execute_result"
    }
   ],
   "source": [
    "stu"
   ]
  },
  {
   "cell_type": "code",
   "execution_count": 51,
   "metadata": {},
   "outputs": [
    {
     "data": {
      "text/plain": [
       "'kumar'"
      ]
     },
     "execution_count": 51,
     "metadata": {},
     "output_type": "execute_result"
    }
   ],
   "source": [
    "#argument is nesessary\n",
    "stu.pop(\"aman\")"
   ]
  },
  {
   "cell_type": "code",
   "execution_count": 52,
   "metadata": {},
   "outputs": [
    {
     "name": "stdout",
     "output_type": "stream",
     "text": [
      "keshav\n",
      "kritika\n",
      "rahul\n",
      "pawna\n"
     ]
    }
   ],
   "source": [
    "for x in stu: #print just keys\n",
    "    print(x)"
   ]
  },
  {
   "cell_type": "code",
   "execution_count": 53,
   "metadata": {},
   "outputs": [
    {
     "name": "stdout",
     "output_type": "stream",
     "text": [
      "sharma\n",
      "pal\n",
      "sharma\n",
      "chou.\n"
     ]
    }
   ],
   "source": [
    "for x in stu.values(): # print just values\n",
    "    print(x)"
   ]
  },
  {
   "cell_type": "code",
   "execution_count": 54,
   "metadata": {},
   "outputs": [
    {
     "name": "stdout",
     "output_type": "stream",
     "text": [
      "keshav sharma\n",
      "kritika pal\n",
      "rahul sharma\n",
      "pawna chou.\n"
     ]
    }
   ],
   "source": [
    "for x,y in stu.items(): # it will print key and values both\n",
    "    print(x,y)"
   ]
  },
  {
   "cell_type": "code",
   "execution_count": 55,
   "metadata": {},
   "outputs": [
    {
     "data": {
      "text/plain": [
       "4"
      ]
     },
     "execution_count": 55,
     "metadata": {},
     "output_type": "execute_result"
    }
   ],
   "source": [
    "len(stu)"
   ]
  },
  {
   "cell_type": "code",
   "execution_count": 56,
   "metadata": {},
   "outputs": [],
   "source": [
    "stu.clear()"
   ]
  },
  {
   "cell_type": "code",
   "execution_count": 57,
   "metadata": {},
   "outputs": [
    {
     "data": {
      "text/plain": [
       "{}"
      ]
     },
     "execution_count": 57,
     "metadata": {},
     "output_type": "execute_result"
    }
   ],
   "source": [
    "stu"
   ]
  },
  {
   "cell_type": "markdown",
   "metadata": {},
   "source": [
    "# conditions \n",
    "## if and else\n"
   ]
  },
  {
   "cell_type": "code",
   "execution_count": 58,
   "metadata": {},
   "outputs": [
    {
     "name": "stdout",
     "output_type": "stream",
     "text": [
      "b is greater then a\n"
     ]
    }
   ],
   "source": [
    "a=87\n",
    "b=90\n",
    "if b>a:\n",
    "    print(\"b is greater then a\")"
   ]
  },
  {
   "cell_type": "code",
   "execution_count": 59,
   "metadata": {},
   "outputs": [
    {
     "name": "stdout",
     "output_type": "stream",
     "text": [
      "both are equal\n"
     ]
    }
   ],
   "source": [
    "a=120\n",
    "b=120\n",
    "if b>a:\n",
    "    print(\"b is greater\")\n",
    "elif a==b:\n",
    "    print(\"both are equal\")\n",
    "else:\n",
    "    print(\"a is greater\")"
   ]
  },
  {
   "cell_type": "markdown",
   "metadata": {},
   "source": [
    "# loops\n",
    "* while\n",
    "* for loop\n"
   ]
  },
  {
   "cell_type": "code",
   "execution_count": 60,
   "metadata": {},
   "outputs": [
    {
     "name": "stdout",
     "output_type": "stream",
     "text": [
      "1\n",
      "2\n",
      "3\n",
      "4\n",
      "5\n",
      "6\n"
     ]
    }
   ],
   "source": [
    "i=1\n",
    "while i<7:\n",
    "    print(i)\n",
    "    i+=1"
   ]
  },
  {
   "cell_type": "code",
   "execution_count": 61,
   "metadata": {},
   "outputs": [
    {
     "name": "stdout",
     "output_type": "stream",
     "text": [
      "1\n",
      "2\n",
      "3\n",
      "4\n"
     ]
    }
   ],
   "source": [
    "# break stop loop after setasfing a situation\n",
    "\n",
    "i=1\n",
    "while i<7:\n",
    "    print(i)\n",
    "    if(i==4):\n",
    "        break\n",
    "    i+=1"
   ]
  },
  {
   "cell_type": "code",
   "execution_count": 62,
   "metadata": {},
   "outputs": [
    {
     "name": "stdout",
     "output_type": "stream",
     "text": [
      "1\n",
      "2\n",
      "3\n",
      "5\n",
      "6\n",
      "7\n"
     ]
    }
   ],
   "source": [
    "# it skip a value and rest of the loop  works \n",
    "\n",
    "i=0\n",
    "while i<7:\n",
    "    i+=1\n",
    "    \n",
    "    if(i==4):\n",
    "        continue\n",
    "    print(i)\n",
    "    "
   ]
  },
  {
   "cell_type": "code",
   "execution_count": 63,
   "metadata": {},
   "outputs": [
    {
     "name": "stdout",
     "output_type": "stream",
     "text": [
      "1\n",
      "2\n",
      "3\n",
      "5\n",
      "7\n",
      "8\n",
      "5\n",
      "43\n"
     ]
    }
   ],
   "source": [
    "list5=[1,2,3,5,7,8,5,43]\n",
    "for i in list5:\n",
    "    print(i)"
   ]
  },
  {
   "cell_type": "code",
   "execution_count": 64,
   "metadata": {},
   "outputs": [
    {
     "name": "stdout",
     "output_type": "stream",
     "text": [
      "k\n",
      "e\n",
      "s\n",
      "h\n",
      "a\n",
      "v\n"
     ]
    }
   ],
   "source": [
    "for i in \"keshav\":\n",
    "    print(i)"
   ]
  },
  {
   "cell_type": "code",
   "execution_count": 65,
   "metadata": {},
   "outputs": [
    {
     "name": "stdout",
     "output_type": "stream",
     "text": [
      "red apple\n",
      "red mango\n",
      "red banana\n",
      "big apple\n",
      "big mango\n",
      "big banana\n",
      "tasty apple\n",
      "tasty mango\n",
      "tasty banana\n"
     ]
    }
   ],
   "source": [
    "qua=[\"red\",\"big\",\"tasty\"]\n",
    "fruits=[\"apple\",\"mango\",\"banana\"]\n",
    "for x in qua: #neated loop\n",
    "    for y in fruits:\n",
    "        print(x,y)"
   ]
  },
  {
   "cell_type": "markdown",
   "metadata": {},
   "source": [
    "# Function"
   ]
  },
  {
   "cell_type": "code",
   "execution_count": 66,
   "metadata": {},
   "outputs": [
    {
     "name": "stdout",
     "output_type": "stream",
     "text": [
      "9\n"
     ]
    }
   ],
   "source": [
    "def sum(x,y):\n",
    "    print(x+y)\n",
    "    \n",
    "sum(4,5)    "
   ]
  },
  {
   "cell_type": "markdown",
   "metadata": {},
   "source": [
    "# Working on data sets\n",
    "## csv files"
   ]
  },
  {
   "cell_type": "code",
   "execution_count": 67,
   "metadata": {},
   "outputs": [],
   "source": [
    "import pandas as pd"
   ]
  },
  {
   "cell_type": "code",
   "execution_count": 68,
   "metadata": {},
   "outputs": [
    {
     "data": {
      "text/html": [
       "<div>\n",
       "<style scoped>\n",
       "    .dataframe tbody tr th:only-of-type {\n",
       "        vertical-align: middle;\n",
       "    }\n",
       "\n",
       "    .dataframe tbody tr th {\n",
       "        vertical-align: top;\n",
       "    }\n",
       "\n",
       "    .dataframe thead th {\n",
       "        text-align: right;\n",
       "    }\n",
       "</style>\n",
       "<table border=\"1\" class=\"dataframe\">\n",
       "  <thead>\n",
       "    <tr style=\"text-align: right;\">\n",
       "      <th></th>\n",
       "      <th>Id</th>\n",
       "      <th>Name</th>\n",
       "      <th>Year</th>\n",
       "      <th>Gender</th>\n",
       "      <th>Count</th>\n",
       "    </tr>\n",
       "  </thead>\n",
       "  <tbody>\n",
       "    <tr>\n",
       "      <th>0</th>\n",
       "      <td>1</td>\n",
       "      <td>Mary</td>\n",
       "      <td>1880</td>\n",
       "      <td>F</td>\n",
       "      <td>7065</td>\n",
       "    </tr>\n",
       "    <tr>\n",
       "      <th>1</th>\n",
       "      <td>2</td>\n",
       "      <td>Anna</td>\n",
       "      <td>1880</td>\n",
       "      <td>F</td>\n",
       "      <td>2604</td>\n",
       "    </tr>\n",
       "    <tr>\n",
       "      <th>2</th>\n",
       "      <td>3</td>\n",
       "      <td>Emma</td>\n",
       "      <td>1880</td>\n",
       "      <td>F</td>\n",
       "      <td>2003</td>\n",
       "    </tr>\n",
       "    <tr>\n",
       "      <th>3</th>\n",
       "      <td>4</td>\n",
       "      <td>Elizabeth</td>\n",
       "      <td>1880</td>\n",
       "      <td>F</td>\n",
       "      <td>1939</td>\n",
       "    </tr>\n",
       "    <tr>\n",
       "      <th>4</th>\n",
       "      <td>5</td>\n",
       "      <td>Minnie</td>\n",
       "      <td>1880</td>\n",
       "      <td>F</td>\n",
       "      <td>1746</td>\n",
       "    </tr>\n",
       "    <tr>\n",
       "      <th>...</th>\n",
       "      <td>...</td>\n",
       "      <td>...</td>\n",
       "      <td>...</td>\n",
       "      <td>...</td>\n",
       "      <td>...</td>\n",
       "    </tr>\n",
       "    <tr>\n",
       "      <th>1825428</th>\n",
       "      <td>1825429</td>\n",
       "      <td>Zykeem</td>\n",
       "      <td>2014</td>\n",
       "      <td>M</td>\n",
       "      <td>5</td>\n",
       "    </tr>\n",
       "    <tr>\n",
       "      <th>1825429</th>\n",
       "      <td>1825430</td>\n",
       "      <td>Zymeer</td>\n",
       "      <td>2014</td>\n",
       "      <td>M</td>\n",
       "      <td>5</td>\n",
       "    </tr>\n",
       "    <tr>\n",
       "      <th>1825430</th>\n",
       "      <td>1825431</td>\n",
       "      <td>Zymiere</td>\n",
       "      <td>2014</td>\n",
       "      <td>M</td>\n",
       "      <td>5</td>\n",
       "    </tr>\n",
       "    <tr>\n",
       "      <th>1825431</th>\n",
       "      <td>1825432</td>\n",
       "      <td>Zyran</td>\n",
       "      <td>2014</td>\n",
       "      <td>M</td>\n",
       "      <td>5</td>\n",
       "    </tr>\n",
       "    <tr>\n",
       "      <th>1825432</th>\n",
       "      <td>1825433</td>\n",
       "      <td>Zyrin</td>\n",
       "      <td>2014</td>\n",
       "      <td>M</td>\n",
       "      <td>5</td>\n",
       "    </tr>\n",
       "  </tbody>\n",
       "</table>\n",
       "<p>1825433 rows × 5 columns</p>\n",
       "</div>"
      ],
      "text/plain": [
       "              Id       Name  Year Gender  Count\n",
       "0              1       Mary  1880      F   7065\n",
       "1              2       Anna  1880      F   2604\n",
       "2              3       Emma  1880      F   2003\n",
       "3              4  Elizabeth  1880      F   1939\n",
       "4              5     Minnie  1880      F   1746\n",
       "...          ...        ...   ...    ...    ...\n",
       "1825428  1825429     Zykeem  2014      M      5\n",
       "1825429  1825430     Zymeer  2014      M      5\n",
       "1825430  1825431    Zymiere  2014      M      5\n",
       "1825431  1825432      Zyran  2014      M      5\n",
       "1825432  1825433      Zyrin  2014      M      5\n",
       "\n",
       "[1825433 rows x 5 columns]"
      ]
     },
     "execution_count": 68,
     "metadata": {},
     "output_type": "execute_result"
    }
   ],
   "source": [
    "df=pd.read_csv(\"us_baby_names.csv\")\n",
    "df"
   ]
  },
  {
   "cell_type": "code",
   "execution_count": 69,
   "metadata": {},
   "outputs": [
    {
     "data": {
      "text/html": [
       "<div>\n",
       "<style scoped>\n",
       "    .dataframe tbody tr th:only-of-type {\n",
       "        vertical-align: middle;\n",
       "    }\n",
       "\n",
       "    .dataframe tbody tr th {\n",
       "        vertical-align: top;\n",
       "    }\n",
       "\n",
       "    .dataframe thead th {\n",
       "        text-align: right;\n",
       "    }\n",
       "</style>\n",
       "<table border=\"1\" class=\"dataframe\">\n",
       "  <thead>\n",
       "    <tr style=\"text-align: right;\">\n",
       "      <th></th>\n",
       "      <th>Id</th>\n",
       "      <th>Year</th>\n",
       "      <th>Count</th>\n",
       "    </tr>\n",
       "  </thead>\n",
       "  <tbody>\n",
       "    <tr>\n",
       "      <th>count</th>\n",
       "      <td>1.825433e+06</td>\n",
       "      <td>1.825433e+06</td>\n",
       "      <td>1.825433e+06</td>\n",
       "    </tr>\n",
       "    <tr>\n",
       "      <th>mean</th>\n",
       "      <td>9.127170e+05</td>\n",
       "      <td>1.972620e+03</td>\n",
       "      <td>1.846879e+02</td>\n",
       "    </tr>\n",
       "    <tr>\n",
       "      <th>std</th>\n",
       "      <td>5.269573e+05</td>\n",
       "      <td>3.352891e+01</td>\n",
       "      <td>1.566711e+03</td>\n",
       "    </tr>\n",
       "    <tr>\n",
       "      <th>min</th>\n",
       "      <td>1.000000e+00</td>\n",
       "      <td>1.880000e+03</td>\n",
       "      <td>5.000000e+00</td>\n",
       "    </tr>\n",
       "    <tr>\n",
       "      <th>25%</th>\n",
       "      <td>4.563590e+05</td>\n",
       "      <td>1.949000e+03</td>\n",
       "      <td>7.000000e+00</td>\n",
       "    </tr>\n",
       "    <tr>\n",
       "      <th>50%</th>\n",
       "      <td>9.127170e+05</td>\n",
       "      <td>1.982000e+03</td>\n",
       "      <td>1.200000e+01</td>\n",
       "    </tr>\n",
       "    <tr>\n",
       "      <th>75%</th>\n",
       "      <td>1.369075e+06</td>\n",
       "      <td>2.001000e+03</td>\n",
       "      <td>3.200000e+01</td>\n",
       "    </tr>\n",
       "    <tr>\n",
       "      <th>max</th>\n",
       "      <td>1.825433e+06</td>\n",
       "      <td>2.014000e+03</td>\n",
       "      <td>9.968000e+04</td>\n",
       "    </tr>\n",
       "  </tbody>\n",
       "</table>\n",
       "</div>"
      ],
      "text/plain": [
       "                 Id          Year         Count\n",
       "count  1.825433e+06  1.825433e+06  1.825433e+06\n",
       "mean   9.127170e+05  1.972620e+03  1.846879e+02\n",
       "std    5.269573e+05  3.352891e+01  1.566711e+03\n",
       "min    1.000000e+00  1.880000e+03  5.000000e+00\n",
       "25%    4.563590e+05  1.949000e+03  7.000000e+00\n",
       "50%    9.127170e+05  1.982000e+03  1.200000e+01\n",
       "75%    1.369075e+06  2.001000e+03  3.200000e+01\n",
       "max    1.825433e+06  2.014000e+03  9.968000e+04"
      ]
     },
     "execution_count": 69,
     "metadata": {},
     "output_type": "execute_result"
    }
   ],
   "source": [
    "df.describe()"
   ]
  },
  {
   "cell_type": "code",
   "execution_count": 70,
   "metadata": {},
   "outputs": [
    {
     "data": {
      "text/plain": [
       "Index(['Id', 'Name', 'Year', 'Gender', 'Count'], dtype='object')"
      ]
     },
     "execution_count": 70,
     "metadata": {},
     "output_type": "execute_result"
    }
   ],
   "source": [
    "df.columns"
   ]
  },
  {
   "cell_type": "code",
   "execution_count": 71,
   "metadata": {},
   "outputs": [
    {
     "data": {
      "text/plain": [
       "William     270\n",
       "Jessie      270\n",
       "Tommie      270\n",
       "James       270\n",
       "Joseph      270\n",
       "           ... \n",
       "Danja         1\n",
       "Yerai         1\n",
       "Socheat       1\n",
       "Desnee        1\n",
       "Jaymisha      1\n",
       "Name: Name, Length: 93889, dtype: int64"
      ]
     },
     "execution_count": 71,
     "metadata": {},
     "output_type": "execute_result"
    }
   ],
   "source": [
    "df['Name'].value_counts()"
   ]
  },
  {
   "cell_type": "code",
   "execution_count": 72,
   "metadata": {},
   "outputs": [
    {
     "data": {
      "text/plain": [
       "(1825433, 5)"
      ]
     },
     "execution_count": 72,
     "metadata": {},
     "output_type": "execute_result"
    }
   ],
   "source": [
    "df.shape"
   ]
  },
  {
   "cell_type": "code",
   "execution_count": 73,
   "metadata": {},
   "outputs": [
    {
     "data": {
      "text/plain": [
       "0          1880\n",
       "1          1880\n",
       "2          1880\n",
       "3          1880\n",
       "4          1880\n",
       "           ... \n",
       "1825428    2014\n",
       "1825429    2014\n",
       "1825430    2014\n",
       "1825431    2014\n",
       "1825432    2014\n",
       "Name: Year, Length: 1825433, dtype: int64"
      ]
     },
     "execution_count": 73,
     "metadata": {},
     "output_type": "execute_result"
    }
   ],
   "source": [
    "# popular baby names in 2014\n",
    "df['Year']"
   ]
  },
  {
   "cell_type": "code",
   "execution_count": 74,
   "metadata": {},
   "outputs": [
    {
     "data": {
      "text/plain": [
       "0          False\n",
       "1          False\n",
       "2          False\n",
       "3          False\n",
       "4          False\n",
       "           ...  \n",
       "1825428     True\n",
       "1825429     True\n",
       "1825430     True\n",
       "1825431     True\n",
       "1825432     True\n",
       "Name: Year, Length: 1825433, dtype: bool"
      ]
     },
     "execution_count": 74,
     "metadata": {},
     "output_type": "execute_result"
    }
   ],
   "source": [
    "df['Year']==2014 # it gives true false data"
   ]
  },
  {
   "cell_type": "code",
   "execution_count": 75,
   "metadata": {},
   "outputs": [
    {
     "data": {
      "text/html": [
       "<div>\n",
       "<style scoped>\n",
       "    .dataframe tbody tr th:only-of-type {\n",
       "        vertical-align: middle;\n",
       "    }\n",
       "\n",
       "    .dataframe tbody tr th {\n",
       "        vertical-align: top;\n",
       "    }\n",
       "\n",
       "    .dataframe thead th {\n",
       "        text-align: right;\n",
       "    }\n",
       "</style>\n",
       "<table border=\"1\" class=\"dataframe\">\n",
       "  <thead>\n",
       "    <tr style=\"text-align: right;\">\n",
       "      <th></th>\n",
       "      <th>Id</th>\n",
       "      <th>Name</th>\n",
       "      <th>Year</th>\n",
       "      <th>Gender</th>\n",
       "      <th>Count</th>\n",
       "    </tr>\n",
       "  </thead>\n",
       "  <tbody>\n",
       "    <tr>\n",
       "      <th>1792389</th>\n",
       "      <td>1792390</td>\n",
       "      <td>Emma</td>\n",
       "      <td>2014</td>\n",
       "      <td>F</td>\n",
       "      <td>20799</td>\n",
       "    </tr>\n",
       "    <tr>\n",
       "      <th>1792390</th>\n",
       "      <td>1792391</td>\n",
       "      <td>Olivia</td>\n",
       "      <td>2014</td>\n",
       "      <td>F</td>\n",
       "      <td>19674</td>\n",
       "    </tr>\n",
       "    <tr>\n",
       "      <th>1792391</th>\n",
       "      <td>1792392</td>\n",
       "      <td>Sophia</td>\n",
       "      <td>2014</td>\n",
       "      <td>F</td>\n",
       "      <td>18490</td>\n",
       "    </tr>\n",
       "    <tr>\n",
       "      <th>1792392</th>\n",
       "      <td>1792393</td>\n",
       "      <td>Isabella</td>\n",
       "      <td>2014</td>\n",
       "      <td>F</td>\n",
       "      <td>16950</td>\n",
       "    </tr>\n",
       "    <tr>\n",
       "      <th>1792393</th>\n",
       "      <td>1792394</td>\n",
       "      <td>Ava</td>\n",
       "      <td>2014</td>\n",
       "      <td>F</td>\n",
       "      <td>15586</td>\n",
       "    </tr>\n",
       "    <tr>\n",
       "      <th>...</th>\n",
       "      <td>...</td>\n",
       "      <td>...</td>\n",
       "      <td>...</td>\n",
       "      <td>...</td>\n",
       "      <td>...</td>\n",
       "    </tr>\n",
       "    <tr>\n",
       "      <th>1825428</th>\n",
       "      <td>1825429</td>\n",
       "      <td>Zykeem</td>\n",
       "      <td>2014</td>\n",
       "      <td>M</td>\n",
       "      <td>5</td>\n",
       "    </tr>\n",
       "    <tr>\n",
       "      <th>1825429</th>\n",
       "      <td>1825430</td>\n",
       "      <td>Zymeer</td>\n",
       "      <td>2014</td>\n",
       "      <td>M</td>\n",
       "      <td>5</td>\n",
       "    </tr>\n",
       "    <tr>\n",
       "      <th>1825430</th>\n",
       "      <td>1825431</td>\n",
       "      <td>Zymiere</td>\n",
       "      <td>2014</td>\n",
       "      <td>M</td>\n",
       "      <td>5</td>\n",
       "    </tr>\n",
       "    <tr>\n",
       "      <th>1825431</th>\n",
       "      <td>1825432</td>\n",
       "      <td>Zyran</td>\n",
       "      <td>2014</td>\n",
       "      <td>M</td>\n",
       "      <td>5</td>\n",
       "    </tr>\n",
       "    <tr>\n",
       "      <th>1825432</th>\n",
       "      <td>1825433</td>\n",
       "      <td>Zyrin</td>\n",
       "      <td>2014</td>\n",
       "      <td>M</td>\n",
       "      <td>5</td>\n",
       "    </tr>\n",
       "  </tbody>\n",
       "</table>\n",
       "<p>33044 rows × 5 columns</p>\n",
       "</div>"
      ],
      "text/plain": [
       "              Id      Name  Year Gender  Count\n",
       "1792389  1792390      Emma  2014      F  20799\n",
       "1792390  1792391    Olivia  2014      F  19674\n",
       "1792391  1792392    Sophia  2014      F  18490\n",
       "1792392  1792393  Isabella  2014      F  16950\n",
       "1792393  1792394       Ava  2014      F  15586\n",
       "...          ...       ...   ...    ...    ...\n",
       "1825428  1825429    Zykeem  2014      M      5\n",
       "1825429  1825430    Zymeer  2014      M      5\n",
       "1825430  1825431   Zymiere  2014      M      5\n",
       "1825431  1825432     Zyran  2014      M      5\n",
       "1825432  1825433     Zyrin  2014      M      5\n",
       "\n",
       "[33044 rows x 5 columns]"
      ]
     },
     "execution_count": 75,
     "metadata": {},
     "output_type": "execute_result"
    }
   ],
   "source": [
    "babies_2014=df.loc[df['Year']==2014]\n",
    "babies_2014"
   ]
  },
  {
   "cell_type": "code",
   "execution_count": 76,
   "metadata": {},
   "outputs": [
    {
     "data": {
      "text/html": [
       "<div>\n",
       "<style scoped>\n",
       "    .dataframe tbody tr th:only-of-type {\n",
       "        vertical-align: middle;\n",
       "    }\n",
       "\n",
       "    .dataframe tbody tr th {\n",
       "        vertical-align: top;\n",
       "    }\n",
       "\n",
       "    .dataframe thead th {\n",
       "        text-align: right;\n",
       "    }\n",
       "</style>\n",
       "<table border=\"1\" class=\"dataframe\">\n",
       "  <thead>\n",
       "    <tr style=\"text-align: right;\">\n",
       "      <th></th>\n",
       "      <th>Id</th>\n",
       "      <th>Name</th>\n",
       "      <th>Year</th>\n",
       "      <th>Gender</th>\n",
       "      <th>Count</th>\n",
       "    </tr>\n",
       "  </thead>\n",
       "  <tbody>\n",
       "    <tr>\n",
       "      <th>1792389</th>\n",
       "      <td>1792390</td>\n",
       "      <td>Emma</td>\n",
       "      <td>2014</td>\n",
       "      <td>F</td>\n",
       "      <td>20799</td>\n",
       "    </tr>\n",
       "    <tr>\n",
       "      <th>1792390</th>\n",
       "      <td>1792391</td>\n",
       "      <td>Olivia</td>\n",
       "      <td>2014</td>\n",
       "      <td>F</td>\n",
       "      <td>19674</td>\n",
       "    </tr>\n",
       "    <tr>\n",
       "      <th>1792391</th>\n",
       "      <td>1792392</td>\n",
       "      <td>Sophia</td>\n",
       "      <td>2014</td>\n",
       "      <td>F</td>\n",
       "      <td>18490</td>\n",
       "    </tr>\n",
       "    <tr>\n",
       "      <th>1792392</th>\n",
       "      <td>1792393</td>\n",
       "      <td>Isabella</td>\n",
       "      <td>2014</td>\n",
       "      <td>F</td>\n",
       "      <td>16950</td>\n",
       "    </tr>\n",
       "    <tr>\n",
       "      <th>1792393</th>\n",
       "      <td>1792394</td>\n",
       "      <td>Ava</td>\n",
       "      <td>2014</td>\n",
       "      <td>F</td>\n",
       "      <td>15586</td>\n",
       "    </tr>\n",
       "    <tr>\n",
       "      <th>...</th>\n",
       "      <td>...</td>\n",
       "      <td>...</td>\n",
       "      <td>...</td>\n",
       "      <td>...</td>\n",
       "      <td>...</td>\n",
       "    </tr>\n",
       "    <tr>\n",
       "      <th>1825428</th>\n",
       "      <td>1825429</td>\n",
       "      <td>Zykeem</td>\n",
       "      <td>2014</td>\n",
       "      <td>M</td>\n",
       "      <td>5</td>\n",
       "    </tr>\n",
       "    <tr>\n",
       "      <th>1825429</th>\n",
       "      <td>1825430</td>\n",
       "      <td>Zymeer</td>\n",
       "      <td>2014</td>\n",
       "      <td>M</td>\n",
       "      <td>5</td>\n",
       "    </tr>\n",
       "    <tr>\n",
       "      <th>1825430</th>\n",
       "      <td>1825431</td>\n",
       "      <td>Zymiere</td>\n",
       "      <td>2014</td>\n",
       "      <td>M</td>\n",
       "      <td>5</td>\n",
       "    </tr>\n",
       "    <tr>\n",
       "      <th>1825431</th>\n",
       "      <td>1825432</td>\n",
       "      <td>Zyran</td>\n",
       "      <td>2014</td>\n",
       "      <td>M</td>\n",
       "      <td>5</td>\n",
       "    </tr>\n",
       "    <tr>\n",
       "      <th>1825432</th>\n",
       "      <td>1825433</td>\n",
       "      <td>Zyrin</td>\n",
       "      <td>2014</td>\n",
       "      <td>M</td>\n",
       "      <td>5</td>\n",
       "    </tr>\n",
       "  </tbody>\n",
       "</table>\n",
       "<p>33044 rows × 5 columns</p>\n",
       "</div>"
      ],
      "text/plain": [
       "              Id      Name  Year Gender  Count\n",
       "1792389  1792390      Emma  2014      F  20799\n",
       "1792390  1792391    Olivia  2014      F  19674\n",
       "1792391  1792392    Sophia  2014      F  18490\n",
       "1792392  1792393  Isabella  2014      F  16950\n",
       "1792393  1792394       Ava  2014      F  15586\n",
       "...          ...       ...   ...    ...    ...\n",
       "1825428  1825429    Zykeem  2014      M      5\n",
       "1825429  1825430    Zymeer  2014      M      5\n",
       "1825430  1825431   Zymiere  2014      M      5\n",
       "1825431  1825432     Zyran  2014      M      5\n",
       "1825432  1825433     Zyrin  2014      M      5\n",
       "\n",
       "[33044 rows x 5 columns]"
      ]
     },
     "execution_count": 76,
     "metadata": {},
     "output_type": "execute_result"
    }
   ],
   "source": [
    "babies_2014=df.loc[df['Year']==2014,:]\n",
    "babies_2014"
   ]
  },
  {
   "cell_type": "code",
   "execution_count": 77,
   "metadata": {},
   "outputs": [],
   "source": [
    "#sort value in decending\n",
    "sort_baby_2014=babies_2014.sort_values('Count',ascending=False)"
   ]
  },
  {
   "cell_type": "code",
   "execution_count": 78,
   "metadata": {},
   "outputs": [
    {
     "data": {
      "text/html": [
       "<div>\n",
       "<style scoped>\n",
       "    .dataframe tbody tr th:only-of-type {\n",
       "        vertical-align: middle;\n",
       "    }\n",
       "\n",
       "    .dataframe tbody tr th {\n",
       "        vertical-align: top;\n",
       "    }\n",
       "\n",
       "    .dataframe thead th {\n",
       "        text-align: right;\n",
       "    }\n",
       "</style>\n",
       "<table border=\"1\" class=\"dataframe\">\n",
       "  <thead>\n",
       "    <tr style=\"text-align: right;\">\n",
       "      <th></th>\n",
       "      <th>Id</th>\n",
       "      <th>Name</th>\n",
       "      <th>Year</th>\n",
       "      <th>Gender</th>\n",
       "      <th>Count</th>\n",
       "    </tr>\n",
       "  </thead>\n",
       "  <tbody>\n",
       "    <tr>\n",
       "      <th>1792389</th>\n",
       "      <td>1792390</td>\n",
       "      <td>Emma</td>\n",
       "      <td>2014</td>\n",
       "      <td>F</td>\n",
       "      <td>20799</td>\n",
       "    </tr>\n",
       "    <tr>\n",
       "      <th>1792390</th>\n",
       "      <td>1792391</td>\n",
       "      <td>Olivia</td>\n",
       "      <td>2014</td>\n",
       "      <td>F</td>\n",
       "      <td>19674</td>\n",
       "    </tr>\n",
       "    <tr>\n",
       "      <th>1811456</th>\n",
       "      <td>1811457</td>\n",
       "      <td>Noah</td>\n",
       "      <td>2014</td>\n",
       "      <td>M</td>\n",
       "      <td>19144</td>\n",
       "    </tr>\n",
       "    <tr>\n",
       "      <th>1792391</th>\n",
       "      <td>1792392</td>\n",
       "      <td>Sophia</td>\n",
       "      <td>2014</td>\n",
       "      <td>F</td>\n",
       "      <td>18490</td>\n",
       "    </tr>\n",
       "    <tr>\n",
       "      <th>1811457</th>\n",
       "      <td>1811458</td>\n",
       "      <td>Liam</td>\n",
       "      <td>2014</td>\n",
       "      <td>M</td>\n",
       "      <td>18342</td>\n",
       "    </tr>\n",
       "    <tr>\n",
       "      <th>...</th>\n",
       "      <td>...</td>\n",
       "      <td>...</td>\n",
       "      <td>...</td>\n",
       "      <td>...</td>\n",
       "      <td>...</td>\n",
       "    </tr>\n",
       "    <tr>\n",
       "      <th>1810561</th>\n",
       "      <td>1810562</td>\n",
       "      <td>Melba</td>\n",
       "      <td>2014</td>\n",
       "      <td>F</td>\n",
       "      <td>5</td>\n",
       "    </tr>\n",
       "    <tr>\n",
       "      <th>1810560</th>\n",
       "      <td>1810561</td>\n",
       "      <td>Melaya</td>\n",
       "      <td>2014</td>\n",
       "      <td>F</td>\n",
       "      <td>5</td>\n",
       "    </tr>\n",
       "    <tr>\n",
       "      <th>1810559</th>\n",
       "      <td>1810560</td>\n",
       "      <td>Mel</td>\n",
       "      <td>2014</td>\n",
       "      <td>F</td>\n",
       "      <td>5</td>\n",
       "    </tr>\n",
       "    <tr>\n",
       "      <th>1810558</th>\n",
       "      <td>1810559</td>\n",
       "      <td>Mekhi</td>\n",
       "      <td>2014</td>\n",
       "      <td>F</td>\n",
       "      <td>5</td>\n",
       "    </tr>\n",
       "    <tr>\n",
       "      <th>1825432</th>\n",
       "      <td>1825433</td>\n",
       "      <td>Zyrin</td>\n",
       "      <td>2014</td>\n",
       "      <td>M</td>\n",
       "      <td>5</td>\n",
       "    </tr>\n",
       "  </tbody>\n",
       "</table>\n",
       "<p>33044 rows × 5 columns</p>\n",
       "</div>"
      ],
      "text/plain": [
       "              Id    Name  Year Gender  Count\n",
       "1792389  1792390    Emma  2014      F  20799\n",
       "1792390  1792391  Olivia  2014      F  19674\n",
       "1811456  1811457    Noah  2014      M  19144\n",
       "1792391  1792392  Sophia  2014      F  18490\n",
       "1811457  1811458    Liam  2014      M  18342\n",
       "...          ...     ...   ...    ...    ...\n",
       "1810561  1810562   Melba  2014      F      5\n",
       "1810560  1810561  Melaya  2014      F      5\n",
       "1810559  1810560     Mel  2014      F      5\n",
       "1810558  1810559   Mekhi  2014      F      5\n",
       "1825432  1825433   Zyrin  2014      M      5\n",
       "\n",
       "[33044 rows x 5 columns]"
      ]
     },
     "execution_count": 78,
     "metadata": {},
     "output_type": "execute_result"
    }
   ],
   "source": [
    "sort_baby_2014"
   ]
  },
  {
   "cell_type": "code",
   "execution_count": 79,
   "metadata": {},
   "outputs": [
    {
     "data": {
      "text/html": [
       "<div>\n",
       "<style scoped>\n",
       "    .dataframe tbody tr th:only-of-type {\n",
       "        vertical-align: middle;\n",
       "    }\n",
       "\n",
       "    .dataframe tbody tr th {\n",
       "        vertical-align: top;\n",
       "    }\n",
       "\n",
       "    .dataframe thead th {\n",
       "        text-align: right;\n",
       "    }\n",
       "</style>\n",
       "<table border=\"1\" class=\"dataframe\">\n",
       "  <thead>\n",
       "    <tr style=\"text-align: right;\">\n",
       "      <th></th>\n",
       "      <th>Id</th>\n",
       "      <th>Name</th>\n",
       "      <th>Year</th>\n",
       "      <th>Gender</th>\n",
       "      <th>Count</th>\n",
       "    </tr>\n",
       "  </thead>\n",
       "  <tbody>\n",
       "    <tr>\n",
       "      <th>1792389</th>\n",
       "      <td>1792390</td>\n",
       "      <td>Emma</td>\n",
       "      <td>2014</td>\n",
       "      <td>F</td>\n",
       "      <td>20799</td>\n",
       "    </tr>\n",
       "    <tr>\n",
       "      <th>1792390</th>\n",
       "      <td>1792391</td>\n",
       "      <td>Olivia</td>\n",
       "      <td>2014</td>\n",
       "      <td>F</td>\n",
       "      <td>19674</td>\n",
       "    </tr>\n",
       "    <tr>\n",
       "      <th>1811456</th>\n",
       "      <td>1811457</td>\n",
       "      <td>Noah</td>\n",
       "      <td>2014</td>\n",
       "      <td>M</td>\n",
       "      <td>19144</td>\n",
       "    </tr>\n",
       "    <tr>\n",
       "      <th>1792391</th>\n",
       "      <td>1792392</td>\n",
       "      <td>Sophia</td>\n",
       "      <td>2014</td>\n",
       "      <td>F</td>\n",
       "      <td>18490</td>\n",
       "    </tr>\n",
       "    <tr>\n",
       "      <th>1811457</th>\n",
       "      <td>1811458</td>\n",
       "      <td>Liam</td>\n",
       "      <td>2014</td>\n",
       "      <td>M</td>\n",
       "      <td>18342</td>\n",
       "    </tr>\n",
       "  </tbody>\n",
       "</table>\n",
       "</div>"
      ],
      "text/plain": [
       "              Id    Name  Year Gender  Count\n",
       "1792389  1792390    Emma  2014      F  20799\n",
       "1792390  1792391  Olivia  2014      F  19674\n",
       "1811456  1811457    Noah  2014      M  19144\n",
       "1792391  1792392  Sophia  2014      F  18490\n",
       "1811457  1811458    Liam  2014      M  18342"
      ]
     },
     "execution_count": 79,
     "metadata": {},
     "output_type": "execute_result"
    }
   ],
   "source": [
    "sort_baby_2014.iloc[0:5]"
   ]
  },
  {
   "cell_type": "markdown",
   "metadata": {},
   "source": [
    "# Data Cleaning\n",
    "* clean missing values so we get the correct data from data set"
   ]
  },
  {
   "cell_type": "code",
   "execution_count": 80,
   "metadata": {},
   "outputs": [],
   "source": [
    "crime=pd.read_csv(\"crime_boston.csv\")\n"
   ]
  },
  {
   "cell_type": "code",
   "execution_count": 81,
   "metadata": {},
   "outputs": [
    {
     "data": {
      "text/html": [
       "<div>\n",
       "<style scoped>\n",
       "    .dataframe tbody tr th:only-of-type {\n",
       "        vertical-align: middle;\n",
       "    }\n",
       "\n",
       "    .dataframe tbody tr th {\n",
       "        vertical-align: top;\n",
       "    }\n",
       "\n",
       "    .dataframe thead th {\n",
       "        text-align: right;\n",
       "    }\n",
       "</style>\n",
       "<table border=\"1\" class=\"dataframe\">\n",
       "  <thead>\n",
       "    <tr style=\"text-align: right;\">\n",
       "      <th></th>\n",
       "      <th>INCIDENT_NUMBER</th>\n",
       "      <th>OFFENSE_CODE</th>\n",
       "      <th>OFFENSE_CODE_GROUP</th>\n",
       "      <th>OFFENSE_DESCRIPTION</th>\n",
       "      <th>DISTRICT</th>\n",
       "      <th>REPORTING_AREA</th>\n",
       "      <th>SHOOTING</th>\n",
       "      <th>OCCURRED_ON_DATE</th>\n",
       "      <th>YEAR</th>\n",
       "      <th>MONTH</th>\n",
       "      <th>DAY_OF_WEEK</th>\n",
       "      <th>HOUR</th>\n",
       "      <th>UCR_PART</th>\n",
       "      <th>STREET</th>\n",
       "      <th>Lat</th>\n",
       "      <th>Long</th>\n",
       "      <th>Location</th>\n",
       "    </tr>\n",
       "  </thead>\n",
       "  <tbody>\n",
       "    <tr>\n",
       "      <th>0</th>\n",
       "      <td>I192064813</td>\n",
       "      <td>3006</td>\n",
       "      <td>Medical Assistance</td>\n",
       "      <td>SICK/INJURED/MEDICAL - PERSON</td>\n",
       "      <td>D14</td>\n",
       "      <td>794</td>\n",
       "      <td>NaN</td>\n",
       "      <td>2019-08-17 21:00:00</td>\n",
       "      <td>2019</td>\n",
       "      <td>8</td>\n",
       "      <td>Saturday</td>\n",
       "      <td>21</td>\n",
       "      <td>Part Three</td>\n",
       "      <td>QUINT AVE</td>\n",
       "      <td>NaN</td>\n",
       "      <td>NaN</td>\n",
       "      <td>(0.00000000, 0.00000000)</td>\n",
       "    </tr>\n",
       "    <tr>\n",
       "      <th>1</th>\n",
       "      <td>I192064810</td>\n",
       "      <td>3410</td>\n",
       "      <td>Towed</td>\n",
       "      <td>TOWED MOTOR VEHICLE</td>\n",
       "      <td>B3</td>\n",
       "      <td>435</td>\n",
       "      <td>NaN</td>\n",
       "      <td>2019-08-17 21:15:00</td>\n",
       "      <td>2019</td>\n",
       "      <td>8</td>\n",
       "      <td>Saturday</td>\n",
       "      <td>21</td>\n",
       "      <td>Part Three</td>\n",
       "      <td>PEACEVALE RD</td>\n",
       "      <td>42.287167</td>\n",
       "      <td>-71.076335</td>\n",
       "      <td>(42.28716674, -71.07633479)</td>\n",
       "    </tr>\n",
       "    <tr>\n",
       "      <th>2</th>\n",
       "      <td>I192064808</td>\n",
       "      <td>2003</td>\n",
       "      <td>Offenses Against Child / Family</td>\n",
       "      <td>CHILD ENDANGERMENT (NO ASSAULT)</td>\n",
       "      <td>C11</td>\n",
       "      <td>355</td>\n",
       "      <td>NaN</td>\n",
       "      <td>2019-08-17 19:33:00</td>\n",
       "      <td>2019</td>\n",
       "      <td>8</td>\n",
       "      <td>Saturday</td>\n",
       "      <td>19</td>\n",
       "      <td>Part Two</td>\n",
       "      <td>GIBSON ST</td>\n",
       "      <td>42.297555</td>\n",
       "      <td>-71.059709</td>\n",
       "      <td>(42.29755533, -71.05970910)</td>\n",
       "    </tr>\n",
       "    <tr>\n",
       "      <th>3</th>\n",
       "      <td>I192064803</td>\n",
       "      <td>802</td>\n",
       "      <td>Simple Assault</td>\n",
       "      <td>ASSAULT SIMPLE - BATTERY</td>\n",
       "      <td>E18</td>\n",
       "      <td>554</td>\n",
       "      <td>NaN</td>\n",
       "      <td>2019-08-17 20:55:00</td>\n",
       "      <td>2019</td>\n",
       "      <td>8</td>\n",
       "      <td>Saturday</td>\n",
       "      <td>20</td>\n",
       "      <td>Part Two</td>\n",
       "      <td>METROPOLITAN AVE</td>\n",
       "      <td>42.272509</td>\n",
       "      <td>-71.123190</td>\n",
       "      <td>(42.27250898, -71.12318965)</td>\n",
       "    </tr>\n",
       "    <tr>\n",
       "      <th>4</th>\n",
       "      <td>I192064800</td>\n",
       "      <td>3114</td>\n",
       "      <td>Investigate Property</td>\n",
       "      <td>INVESTIGATE PROPERTY</td>\n",
       "      <td>E18</td>\n",
       "      <td>502</td>\n",
       "      <td>NaN</td>\n",
       "      <td>2019-08-17 19:39:00</td>\n",
       "      <td>2019</td>\n",
       "      <td>8</td>\n",
       "      <td>Saturday</td>\n",
       "      <td>19</td>\n",
       "      <td>Part Three</td>\n",
       "      <td>PHILBRICK ST</td>\n",
       "      <td>42.285459</td>\n",
       "      <td>-71.118027</td>\n",
       "      <td>(42.28545883, -71.11802667)</td>\n",
       "    </tr>\n",
       "    <tr>\n",
       "      <th>...</th>\n",
       "      <td>...</td>\n",
       "      <td>...</td>\n",
       "      <td>...</td>\n",
       "      <td>...</td>\n",
       "      <td>...</td>\n",
       "      <td>...</td>\n",
       "      <td>...</td>\n",
       "      <td>...</td>\n",
       "      <td>...</td>\n",
       "      <td>...</td>\n",
       "      <td>...</td>\n",
       "      <td>...</td>\n",
       "      <td>...</td>\n",
       "      <td>...</td>\n",
       "      <td>...</td>\n",
       "      <td>...</td>\n",
       "      <td>...</td>\n",
       "    </tr>\n",
       "    <tr>\n",
       "      <th>413667</th>\n",
       "      <td>I020691165-00</td>\n",
       "      <td>3125</td>\n",
       "      <td>Warrant Arrests</td>\n",
       "      <td>WARRANT ARREST</td>\n",
       "      <td>A1</td>\n",
       "      <td>77</td>\n",
       "      <td>NaN</td>\n",
       "      <td>2019-05-23 08:00:00</td>\n",
       "      <td>2019</td>\n",
       "      <td>5</td>\n",
       "      <td>Thursday</td>\n",
       "      <td>8</td>\n",
       "      <td>Part Three</td>\n",
       "      <td>NEW SUDBURY ST</td>\n",
       "      <td>42.361839</td>\n",
       "      <td>-71.059765</td>\n",
       "      <td>(42.36183857, -71.05976489)</td>\n",
       "    </tr>\n",
       "    <tr>\n",
       "      <th>413668</th>\n",
       "      <td>I020674147-00</td>\n",
       "      <td>3125</td>\n",
       "      <td>Warrant Arrests</td>\n",
       "      <td>WARRANT ARREST</td>\n",
       "      <td>A1</td>\n",
       "      <td>77</td>\n",
       "      <td>NaN</td>\n",
       "      <td>2019-05-23 08:00:00</td>\n",
       "      <td>2019</td>\n",
       "      <td>5</td>\n",
       "      <td>Thursday</td>\n",
       "      <td>8</td>\n",
       "      <td>Part Three</td>\n",
       "      <td>NEW SUDBURY ST</td>\n",
       "      <td>42.361839</td>\n",
       "      <td>-71.059765</td>\n",
       "      <td>(42.36183857, -71.05976489)</td>\n",
       "    </tr>\n",
       "    <tr>\n",
       "      <th>413669</th>\n",
       "      <td>I020669075-00</td>\n",
       "      <td>3125</td>\n",
       "      <td>Warrant Arrests</td>\n",
       "      <td>WARRANT ARREST</td>\n",
       "      <td>A1</td>\n",
       "      <td>77</td>\n",
       "      <td>NaN</td>\n",
       "      <td>2019-05-23 08:00:00</td>\n",
       "      <td>2019</td>\n",
       "      <td>5</td>\n",
       "      <td>Thursday</td>\n",
       "      <td>8</td>\n",
       "      <td>Part Three</td>\n",
       "      <td>NEW SUDBURY ST</td>\n",
       "      <td>42.361839</td>\n",
       "      <td>-71.059765</td>\n",
       "      <td>(42.36183857, -71.05976489)</td>\n",
       "    </tr>\n",
       "    <tr>\n",
       "      <th>413670</th>\n",
       "      <td>I020662996-00</td>\n",
       "      <td>3125</td>\n",
       "      <td>Warrant Arrests</td>\n",
       "      <td>WARRANT ARREST</td>\n",
       "      <td>A1</td>\n",
       "      <td>77</td>\n",
       "      <td>NaN</td>\n",
       "      <td>2019-05-23 08:56:00</td>\n",
       "      <td>2019</td>\n",
       "      <td>5</td>\n",
       "      <td>Thursday</td>\n",
       "      <td>8</td>\n",
       "      <td>Part Three</td>\n",
       "      <td>NEW SUDBURY ST</td>\n",
       "      <td>42.361839</td>\n",
       "      <td>-71.059765</td>\n",
       "      <td>(42.36183857, -71.05976489)</td>\n",
       "    </tr>\n",
       "    <tr>\n",
       "      <th>413671</th>\n",
       "      <td>I010370257-00</td>\n",
       "      <td>3125</td>\n",
       "      <td>Warrant Arrests</td>\n",
       "      <td>WARRANT ARREST</td>\n",
       "      <td>E13</td>\n",
       "      <td>569</td>\n",
       "      <td>NaN</td>\n",
       "      <td>2016-05-31 19:35:00</td>\n",
       "      <td>2016</td>\n",
       "      <td>5</td>\n",
       "      <td>Tuesday</td>\n",
       "      <td>19</td>\n",
       "      <td>Part Three</td>\n",
       "      <td>NEW WASHINGTON ST</td>\n",
       "      <td>42.302333</td>\n",
       "      <td>-71.111565</td>\n",
       "      <td>(42.30233307, -71.11156487)</td>\n",
       "    </tr>\n",
       "  </tbody>\n",
       "</table>\n",
       "<p>413672 rows × 17 columns</p>\n",
       "</div>"
      ],
      "text/plain": [
       "       INCIDENT_NUMBER  OFFENSE_CODE               OFFENSE_CODE_GROUP  \\\n",
       "0           I192064813          3006               Medical Assistance   \n",
       "1           I192064810          3410                            Towed   \n",
       "2           I192064808          2003  Offenses Against Child / Family   \n",
       "3           I192064803           802                   Simple Assault   \n",
       "4           I192064800          3114             Investigate Property   \n",
       "...                ...           ...                              ...   \n",
       "413667   I020691165-00          3125                  Warrant Arrests   \n",
       "413668   I020674147-00          3125                  Warrant Arrests   \n",
       "413669   I020669075-00          3125                  Warrant Arrests   \n",
       "413670   I020662996-00          3125                  Warrant Arrests   \n",
       "413671   I010370257-00          3125                  Warrant Arrests   \n",
       "\n",
       "                    OFFENSE_DESCRIPTION DISTRICT REPORTING_AREA SHOOTING  \\\n",
       "0         SICK/INJURED/MEDICAL - PERSON      D14            794      NaN   \n",
       "1                   TOWED MOTOR VEHICLE       B3            435      NaN   \n",
       "2       CHILD ENDANGERMENT (NO ASSAULT)      C11            355      NaN   \n",
       "3              ASSAULT SIMPLE - BATTERY      E18            554      NaN   \n",
       "4                  INVESTIGATE PROPERTY      E18            502      NaN   \n",
       "...                                 ...      ...            ...      ...   \n",
       "413667                   WARRANT ARREST       A1             77      NaN   \n",
       "413668                   WARRANT ARREST       A1             77      NaN   \n",
       "413669                   WARRANT ARREST       A1             77      NaN   \n",
       "413670                   WARRANT ARREST       A1             77      NaN   \n",
       "413671                   WARRANT ARREST      E13            569      NaN   \n",
       "\n",
       "           OCCURRED_ON_DATE  YEAR  MONTH DAY_OF_WEEK  HOUR    UCR_PART  \\\n",
       "0       2019-08-17 21:00:00  2019      8    Saturday    21  Part Three   \n",
       "1       2019-08-17 21:15:00  2019      8    Saturday    21  Part Three   \n",
       "2       2019-08-17 19:33:00  2019      8    Saturday    19    Part Two   \n",
       "3       2019-08-17 20:55:00  2019      8    Saturday    20    Part Two   \n",
       "4       2019-08-17 19:39:00  2019      8    Saturday    19  Part Three   \n",
       "...                     ...   ...    ...         ...   ...         ...   \n",
       "413667  2019-05-23 08:00:00  2019      5    Thursday     8  Part Three   \n",
       "413668  2019-05-23 08:00:00  2019      5    Thursday     8  Part Three   \n",
       "413669  2019-05-23 08:00:00  2019      5    Thursday     8  Part Three   \n",
       "413670  2019-05-23 08:56:00  2019      5    Thursday     8  Part Three   \n",
       "413671  2016-05-31 19:35:00  2016      5     Tuesday    19  Part Three   \n",
       "\n",
       "                   STREET        Lat       Long                     Location  \n",
       "0               QUINT AVE        NaN        NaN     (0.00000000, 0.00000000)  \n",
       "1            PEACEVALE RD  42.287167 -71.076335  (42.28716674, -71.07633479)  \n",
       "2               GIBSON ST  42.297555 -71.059709  (42.29755533, -71.05970910)  \n",
       "3        METROPOLITAN AVE  42.272509 -71.123190  (42.27250898, -71.12318965)  \n",
       "4            PHILBRICK ST  42.285459 -71.118027  (42.28545883, -71.11802667)  \n",
       "...                   ...        ...        ...                          ...  \n",
       "413667     NEW SUDBURY ST  42.361839 -71.059765  (42.36183857, -71.05976489)  \n",
       "413668     NEW SUDBURY ST  42.361839 -71.059765  (42.36183857, -71.05976489)  \n",
       "413669     NEW SUDBURY ST  42.361839 -71.059765  (42.36183857, -71.05976489)  \n",
       "413670     NEW SUDBURY ST  42.361839 -71.059765  (42.36183857, -71.05976489)  \n",
       "413671  NEW WASHINGTON ST  42.302333 -71.111565  (42.30233307, -71.11156487)  \n",
       "\n",
       "[413672 rows x 17 columns]"
      ]
     },
     "execution_count": 81,
     "metadata": {},
     "output_type": "execute_result"
    }
   ],
   "source": [
    "crime\n"
   ]
  },
  {
   "cell_type": "code",
   "execution_count": 82,
   "metadata": {},
   "outputs": [
    {
     "data": {
      "text/plain": [
       "Index(['INCIDENT_NUMBER', 'OFFENSE_CODE', 'OFFENSE_CODE_GROUP',\n",
       "       'OFFENSE_DESCRIPTION', 'DISTRICT', 'REPORTING_AREA', 'SHOOTING',\n",
       "       'OCCURRED_ON_DATE', 'YEAR', 'MONTH', 'DAY_OF_WEEK', 'HOUR', 'UCR_PART',\n",
       "       'STREET', 'Lat', 'Long', 'Location'],\n",
       "      dtype='object')"
      ]
     },
     "execution_count": 82,
     "metadata": {},
     "output_type": "execute_result"
    }
   ],
   "source": [
    "crime.columns"
   ]
  },
  {
   "cell_type": "code",
   "execution_count": 83,
   "metadata": {},
   "outputs": [
    {
     "data": {
      "text/html": [
       "<div>\n",
       "<style scoped>\n",
       "    .dataframe tbody tr th:only-of-type {\n",
       "        vertical-align: middle;\n",
       "    }\n",
       "\n",
       "    .dataframe tbody tr th {\n",
       "        vertical-align: top;\n",
       "    }\n",
       "\n",
       "    .dataframe thead th {\n",
       "        text-align: right;\n",
       "    }\n",
       "</style>\n",
       "<table border=\"1\" class=\"dataframe\">\n",
       "  <thead>\n",
       "    <tr style=\"text-align: right;\">\n",
       "      <th></th>\n",
       "      <th>INCIDENT_NUMBER</th>\n",
       "      <th>OFFENSE_CODE</th>\n",
       "      <th>OFFENSE_CODE_GROUP</th>\n",
       "      <th>OFFENSE_DESCRIPTION</th>\n",
       "      <th>DISTRICT</th>\n",
       "      <th>REPORTING_AREA</th>\n",
       "      <th>SHOOTING</th>\n",
       "      <th>OCCURRED_ON_DATE</th>\n",
       "      <th>YEAR</th>\n",
       "      <th>MONTH</th>\n",
       "      <th>DAY_OF_WEEK</th>\n",
       "      <th>HOUR</th>\n",
       "      <th>UCR_PART</th>\n",
       "      <th>STREET</th>\n",
       "      <th>Lat</th>\n",
       "      <th>Long</th>\n",
       "      <th>Location</th>\n",
       "    </tr>\n",
       "  </thead>\n",
       "  <tbody>\n",
       "    <tr>\n",
       "      <th>0</th>\n",
       "      <td>False</td>\n",
       "      <td>False</td>\n",
       "      <td>False</td>\n",
       "      <td>False</td>\n",
       "      <td>False</td>\n",
       "      <td>False</td>\n",
       "      <td>True</td>\n",
       "      <td>False</td>\n",
       "      <td>False</td>\n",
       "      <td>False</td>\n",
       "      <td>False</td>\n",
       "      <td>False</td>\n",
       "      <td>False</td>\n",
       "      <td>False</td>\n",
       "      <td>True</td>\n",
       "      <td>True</td>\n",
       "      <td>False</td>\n",
       "    </tr>\n",
       "    <tr>\n",
       "      <th>1</th>\n",
       "      <td>False</td>\n",
       "      <td>False</td>\n",
       "      <td>False</td>\n",
       "      <td>False</td>\n",
       "      <td>False</td>\n",
       "      <td>False</td>\n",
       "      <td>True</td>\n",
       "      <td>False</td>\n",
       "      <td>False</td>\n",
       "      <td>False</td>\n",
       "      <td>False</td>\n",
       "      <td>False</td>\n",
       "      <td>False</td>\n",
       "      <td>False</td>\n",
       "      <td>False</td>\n",
       "      <td>False</td>\n",
       "      <td>False</td>\n",
       "    </tr>\n",
       "    <tr>\n",
       "      <th>2</th>\n",
       "      <td>False</td>\n",
       "      <td>False</td>\n",
       "      <td>False</td>\n",
       "      <td>False</td>\n",
       "      <td>False</td>\n",
       "      <td>False</td>\n",
       "      <td>True</td>\n",
       "      <td>False</td>\n",
       "      <td>False</td>\n",
       "      <td>False</td>\n",
       "      <td>False</td>\n",
       "      <td>False</td>\n",
       "      <td>False</td>\n",
       "      <td>False</td>\n",
       "      <td>False</td>\n",
       "      <td>False</td>\n",
       "      <td>False</td>\n",
       "    </tr>\n",
       "    <tr>\n",
       "      <th>3</th>\n",
       "      <td>False</td>\n",
       "      <td>False</td>\n",
       "      <td>False</td>\n",
       "      <td>False</td>\n",
       "      <td>False</td>\n",
       "      <td>False</td>\n",
       "      <td>True</td>\n",
       "      <td>False</td>\n",
       "      <td>False</td>\n",
       "      <td>False</td>\n",
       "      <td>False</td>\n",
       "      <td>False</td>\n",
       "      <td>False</td>\n",
       "      <td>False</td>\n",
       "      <td>False</td>\n",
       "      <td>False</td>\n",
       "      <td>False</td>\n",
       "    </tr>\n",
       "    <tr>\n",
       "      <th>4</th>\n",
       "      <td>False</td>\n",
       "      <td>False</td>\n",
       "      <td>False</td>\n",
       "      <td>False</td>\n",
       "      <td>False</td>\n",
       "      <td>False</td>\n",
       "      <td>True</td>\n",
       "      <td>False</td>\n",
       "      <td>False</td>\n",
       "      <td>False</td>\n",
       "      <td>False</td>\n",
       "      <td>False</td>\n",
       "      <td>False</td>\n",
       "      <td>False</td>\n",
       "      <td>False</td>\n",
       "      <td>False</td>\n",
       "      <td>False</td>\n",
       "    </tr>\n",
       "    <tr>\n",
       "      <th>...</th>\n",
       "      <td>...</td>\n",
       "      <td>...</td>\n",
       "      <td>...</td>\n",
       "      <td>...</td>\n",
       "      <td>...</td>\n",
       "      <td>...</td>\n",
       "      <td>...</td>\n",
       "      <td>...</td>\n",
       "      <td>...</td>\n",
       "      <td>...</td>\n",
       "      <td>...</td>\n",
       "      <td>...</td>\n",
       "      <td>...</td>\n",
       "      <td>...</td>\n",
       "      <td>...</td>\n",
       "      <td>...</td>\n",
       "      <td>...</td>\n",
       "    </tr>\n",
       "    <tr>\n",
       "      <th>413667</th>\n",
       "      <td>False</td>\n",
       "      <td>False</td>\n",
       "      <td>False</td>\n",
       "      <td>False</td>\n",
       "      <td>False</td>\n",
       "      <td>False</td>\n",
       "      <td>True</td>\n",
       "      <td>False</td>\n",
       "      <td>False</td>\n",
       "      <td>False</td>\n",
       "      <td>False</td>\n",
       "      <td>False</td>\n",
       "      <td>False</td>\n",
       "      <td>False</td>\n",
       "      <td>False</td>\n",
       "      <td>False</td>\n",
       "      <td>False</td>\n",
       "    </tr>\n",
       "    <tr>\n",
       "      <th>413668</th>\n",
       "      <td>False</td>\n",
       "      <td>False</td>\n",
       "      <td>False</td>\n",
       "      <td>False</td>\n",
       "      <td>False</td>\n",
       "      <td>False</td>\n",
       "      <td>True</td>\n",
       "      <td>False</td>\n",
       "      <td>False</td>\n",
       "      <td>False</td>\n",
       "      <td>False</td>\n",
       "      <td>False</td>\n",
       "      <td>False</td>\n",
       "      <td>False</td>\n",
       "      <td>False</td>\n",
       "      <td>False</td>\n",
       "      <td>False</td>\n",
       "    </tr>\n",
       "    <tr>\n",
       "      <th>413669</th>\n",
       "      <td>False</td>\n",
       "      <td>False</td>\n",
       "      <td>False</td>\n",
       "      <td>False</td>\n",
       "      <td>False</td>\n",
       "      <td>False</td>\n",
       "      <td>True</td>\n",
       "      <td>False</td>\n",
       "      <td>False</td>\n",
       "      <td>False</td>\n",
       "      <td>False</td>\n",
       "      <td>False</td>\n",
       "      <td>False</td>\n",
       "      <td>False</td>\n",
       "      <td>False</td>\n",
       "      <td>False</td>\n",
       "      <td>False</td>\n",
       "    </tr>\n",
       "    <tr>\n",
       "      <th>413670</th>\n",
       "      <td>False</td>\n",
       "      <td>False</td>\n",
       "      <td>False</td>\n",
       "      <td>False</td>\n",
       "      <td>False</td>\n",
       "      <td>False</td>\n",
       "      <td>True</td>\n",
       "      <td>False</td>\n",
       "      <td>False</td>\n",
       "      <td>False</td>\n",
       "      <td>False</td>\n",
       "      <td>False</td>\n",
       "      <td>False</td>\n",
       "      <td>False</td>\n",
       "      <td>False</td>\n",
       "      <td>False</td>\n",
       "      <td>False</td>\n",
       "    </tr>\n",
       "    <tr>\n",
       "      <th>413671</th>\n",
       "      <td>False</td>\n",
       "      <td>False</td>\n",
       "      <td>False</td>\n",
       "      <td>False</td>\n",
       "      <td>False</td>\n",
       "      <td>False</td>\n",
       "      <td>True</td>\n",
       "      <td>False</td>\n",
       "      <td>False</td>\n",
       "      <td>False</td>\n",
       "      <td>False</td>\n",
       "      <td>False</td>\n",
       "      <td>False</td>\n",
       "      <td>False</td>\n",
       "      <td>False</td>\n",
       "      <td>False</td>\n",
       "      <td>False</td>\n",
       "    </tr>\n",
       "  </tbody>\n",
       "</table>\n",
       "<p>413672 rows × 17 columns</p>\n",
       "</div>"
      ],
      "text/plain": [
       "        INCIDENT_NUMBER  OFFENSE_CODE  OFFENSE_CODE_GROUP  \\\n",
       "0                 False         False               False   \n",
       "1                 False         False               False   \n",
       "2                 False         False               False   \n",
       "3                 False         False               False   \n",
       "4                 False         False               False   \n",
       "...                 ...           ...                 ...   \n",
       "413667            False         False               False   \n",
       "413668            False         False               False   \n",
       "413669            False         False               False   \n",
       "413670            False         False               False   \n",
       "413671            False         False               False   \n",
       "\n",
       "        OFFENSE_DESCRIPTION  DISTRICT  REPORTING_AREA  SHOOTING  \\\n",
       "0                     False     False           False      True   \n",
       "1                     False     False           False      True   \n",
       "2                     False     False           False      True   \n",
       "3                     False     False           False      True   \n",
       "4                     False     False           False      True   \n",
       "...                     ...       ...             ...       ...   \n",
       "413667                False     False           False      True   \n",
       "413668                False     False           False      True   \n",
       "413669                False     False           False      True   \n",
       "413670                False     False           False      True   \n",
       "413671                False     False           False      True   \n",
       "\n",
       "        OCCURRED_ON_DATE   YEAR  MONTH  DAY_OF_WEEK   HOUR  UCR_PART  STREET  \\\n",
       "0                  False  False  False        False  False     False   False   \n",
       "1                  False  False  False        False  False     False   False   \n",
       "2                  False  False  False        False  False     False   False   \n",
       "3                  False  False  False        False  False     False   False   \n",
       "4                  False  False  False        False  False     False   False   \n",
       "...                  ...    ...    ...          ...    ...       ...     ...   \n",
       "413667             False  False  False        False  False     False   False   \n",
       "413668             False  False  False        False  False     False   False   \n",
       "413669             False  False  False        False  False     False   False   \n",
       "413670             False  False  False        False  False     False   False   \n",
       "413671             False  False  False        False  False     False   False   \n",
       "\n",
       "          Lat   Long  Location  \n",
       "0        True   True     False  \n",
       "1       False  False     False  \n",
       "2       False  False     False  \n",
       "3       False  False     False  \n",
       "4       False  False     False  \n",
       "...       ...    ...       ...  \n",
       "413667  False  False     False  \n",
       "413668  False  False     False  \n",
       "413669  False  False     False  \n",
       "413670  False  False     False  \n",
       "413671  False  False     False  \n",
       "\n",
       "[413672 rows x 17 columns]"
      ]
     },
     "execution_count": 83,
     "metadata": {},
     "output_type": "execute_result"
    }
   ],
   "source": [
    "# find missing falues in data\n",
    "crime.isnull()"
   ]
  },
  {
   "cell_type": "code",
   "execution_count": 84,
   "metadata": {},
   "outputs": [
    {
     "data": {
      "text/plain": [
       "0         True\n",
       "1         True\n",
       "2         True\n",
       "3         True\n",
       "4         True\n",
       "          ... \n",
       "413667    True\n",
       "413668    True\n",
       "413669    True\n",
       "413670    True\n",
       "413671    True\n",
       "Length: 413672, dtype: bool"
      ]
     },
     "execution_count": 84,
     "metadata": {},
     "output_type": "execute_result"
    }
   ],
   "source": [
    "#find if there is any missiong value in columns\n",
    "crime.isnull().any(axis=1)"
   ]
  },
  {
   "cell_type": "code",
   "execution_count": 85,
   "metadata": {},
   "outputs": [
    {
     "data": {
      "text/html": [
       "<div>\n",
       "<style scoped>\n",
       "    .dataframe tbody tr th:only-of-type {\n",
       "        vertical-align: middle;\n",
       "    }\n",
       "\n",
       "    .dataframe tbody tr th {\n",
       "        vertical-align: top;\n",
       "    }\n",
       "\n",
       "    .dataframe thead th {\n",
       "        text-align: right;\n",
       "    }\n",
       "</style>\n",
       "<table border=\"1\" class=\"dataframe\">\n",
       "  <thead>\n",
       "    <tr style=\"text-align: right;\">\n",
       "      <th></th>\n",
       "      <th>INCIDENT_NUMBER</th>\n",
       "      <th>OFFENSE_CODE</th>\n",
       "      <th>OFFENSE_CODE_GROUP</th>\n",
       "      <th>OFFENSE_DESCRIPTION</th>\n",
       "      <th>DISTRICT</th>\n",
       "      <th>REPORTING_AREA</th>\n",
       "      <th>SHOOTING</th>\n",
       "      <th>OCCURRED_ON_DATE</th>\n",
       "      <th>YEAR</th>\n",
       "      <th>MONTH</th>\n",
       "      <th>DAY_OF_WEEK</th>\n",
       "      <th>HOUR</th>\n",
       "      <th>UCR_PART</th>\n",
       "      <th>STREET</th>\n",
       "      <th>Lat</th>\n",
       "      <th>Long</th>\n",
       "      <th>Location</th>\n",
       "    </tr>\n",
       "  </thead>\n",
       "  <tbody>\n",
       "    <tr>\n",
       "      <th>0</th>\n",
       "      <td>I192064813</td>\n",
       "      <td>3006</td>\n",
       "      <td>Medical Assistance</td>\n",
       "      <td>SICK/INJURED/MEDICAL - PERSON</td>\n",
       "      <td>D14</td>\n",
       "      <td>794</td>\n",
       "      <td>NaN</td>\n",
       "      <td>2019-08-17 21:00:00</td>\n",
       "      <td>2019</td>\n",
       "      <td>8</td>\n",
       "      <td>Saturday</td>\n",
       "      <td>21</td>\n",
       "      <td>Part Three</td>\n",
       "      <td>QUINT AVE</td>\n",
       "      <td>NaN</td>\n",
       "      <td>NaN</td>\n",
       "      <td>(0.00000000, 0.00000000)</td>\n",
       "    </tr>\n",
       "    <tr>\n",
       "      <th>1</th>\n",
       "      <td>I192064810</td>\n",
       "      <td>3410</td>\n",
       "      <td>Towed</td>\n",
       "      <td>TOWED MOTOR VEHICLE</td>\n",
       "      <td>B3</td>\n",
       "      <td>435</td>\n",
       "      <td>NaN</td>\n",
       "      <td>2019-08-17 21:15:00</td>\n",
       "      <td>2019</td>\n",
       "      <td>8</td>\n",
       "      <td>Saturday</td>\n",
       "      <td>21</td>\n",
       "      <td>Part Three</td>\n",
       "      <td>PEACEVALE RD</td>\n",
       "      <td>42.287167</td>\n",
       "      <td>-71.076335</td>\n",
       "      <td>(42.28716674, -71.07633479)</td>\n",
       "    </tr>\n",
       "    <tr>\n",
       "      <th>2</th>\n",
       "      <td>I192064808</td>\n",
       "      <td>2003</td>\n",
       "      <td>Offenses Against Child / Family</td>\n",
       "      <td>CHILD ENDANGERMENT (NO ASSAULT)</td>\n",
       "      <td>C11</td>\n",
       "      <td>355</td>\n",
       "      <td>NaN</td>\n",
       "      <td>2019-08-17 19:33:00</td>\n",
       "      <td>2019</td>\n",
       "      <td>8</td>\n",
       "      <td>Saturday</td>\n",
       "      <td>19</td>\n",
       "      <td>Part Two</td>\n",
       "      <td>GIBSON ST</td>\n",
       "      <td>42.297555</td>\n",
       "      <td>-71.059709</td>\n",
       "      <td>(42.29755533, -71.05970910)</td>\n",
       "    </tr>\n",
       "    <tr>\n",
       "      <th>3</th>\n",
       "      <td>I192064803</td>\n",
       "      <td>802</td>\n",
       "      <td>Simple Assault</td>\n",
       "      <td>ASSAULT SIMPLE - BATTERY</td>\n",
       "      <td>E18</td>\n",
       "      <td>554</td>\n",
       "      <td>NaN</td>\n",
       "      <td>2019-08-17 20:55:00</td>\n",
       "      <td>2019</td>\n",
       "      <td>8</td>\n",
       "      <td>Saturday</td>\n",
       "      <td>20</td>\n",
       "      <td>Part Two</td>\n",
       "      <td>METROPOLITAN AVE</td>\n",
       "      <td>42.272509</td>\n",
       "      <td>-71.123190</td>\n",
       "      <td>(42.27250898, -71.12318965)</td>\n",
       "    </tr>\n",
       "    <tr>\n",
       "      <th>4</th>\n",
       "      <td>I192064800</td>\n",
       "      <td>3114</td>\n",
       "      <td>Investigate Property</td>\n",
       "      <td>INVESTIGATE PROPERTY</td>\n",
       "      <td>E18</td>\n",
       "      <td>502</td>\n",
       "      <td>NaN</td>\n",
       "      <td>2019-08-17 19:39:00</td>\n",
       "      <td>2019</td>\n",
       "      <td>8</td>\n",
       "      <td>Saturday</td>\n",
       "      <td>19</td>\n",
       "      <td>Part Three</td>\n",
       "      <td>PHILBRICK ST</td>\n",
       "      <td>42.285459</td>\n",
       "      <td>-71.118027</td>\n",
       "      <td>(42.28545883, -71.11802667)</td>\n",
       "    </tr>\n",
       "    <tr>\n",
       "      <th>...</th>\n",
       "      <td>...</td>\n",
       "      <td>...</td>\n",
       "      <td>...</td>\n",
       "      <td>...</td>\n",
       "      <td>...</td>\n",
       "      <td>...</td>\n",
       "      <td>...</td>\n",
       "      <td>...</td>\n",
       "      <td>...</td>\n",
       "      <td>...</td>\n",
       "      <td>...</td>\n",
       "      <td>...</td>\n",
       "      <td>...</td>\n",
       "      <td>...</td>\n",
       "      <td>...</td>\n",
       "      <td>...</td>\n",
       "      <td>...</td>\n",
       "    </tr>\n",
       "    <tr>\n",
       "      <th>413667</th>\n",
       "      <td>I020691165-00</td>\n",
       "      <td>3125</td>\n",
       "      <td>Warrant Arrests</td>\n",
       "      <td>WARRANT ARREST</td>\n",
       "      <td>A1</td>\n",
       "      <td>77</td>\n",
       "      <td>NaN</td>\n",
       "      <td>2019-05-23 08:00:00</td>\n",
       "      <td>2019</td>\n",
       "      <td>5</td>\n",
       "      <td>Thursday</td>\n",
       "      <td>8</td>\n",
       "      <td>Part Three</td>\n",
       "      <td>NEW SUDBURY ST</td>\n",
       "      <td>42.361839</td>\n",
       "      <td>-71.059765</td>\n",
       "      <td>(42.36183857, -71.05976489)</td>\n",
       "    </tr>\n",
       "    <tr>\n",
       "      <th>413668</th>\n",
       "      <td>I020674147-00</td>\n",
       "      <td>3125</td>\n",
       "      <td>Warrant Arrests</td>\n",
       "      <td>WARRANT ARREST</td>\n",
       "      <td>A1</td>\n",
       "      <td>77</td>\n",
       "      <td>NaN</td>\n",
       "      <td>2019-05-23 08:00:00</td>\n",
       "      <td>2019</td>\n",
       "      <td>5</td>\n",
       "      <td>Thursday</td>\n",
       "      <td>8</td>\n",
       "      <td>Part Three</td>\n",
       "      <td>NEW SUDBURY ST</td>\n",
       "      <td>42.361839</td>\n",
       "      <td>-71.059765</td>\n",
       "      <td>(42.36183857, -71.05976489)</td>\n",
       "    </tr>\n",
       "    <tr>\n",
       "      <th>413669</th>\n",
       "      <td>I020669075-00</td>\n",
       "      <td>3125</td>\n",
       "      <td>Warrant Arrests</td>\n",
       "      <td>WARRANT ARREST</td>\n",
       "      <td>A1</td>\n",
       "      <td>77</td>\n",
       "      <td>NaN</td>\n",
       "      <td>2019-05-23 08:00:00</td>\n",
       "      <td>2019</td>\n",
       "      <td>5</td>\n",
       "      <td>Thursday</td>\n",
       "      <td>8</td>\n",
       "      <td>Part Three</td>\n",
       "      <td>NEW SUDBURY ST</td>\n",
       "      <td>42.361839</td>\n",
       "      <td>-71.059765</td>\n",
       "      <td>(42.36183857, -71.05976489)</td>\n",
       "    </tr>\n",
       "    <tr>\n",
       "      <th>413670</th>\n",
       "      <td>I020662996-00</td>\n",
       "      <td>3125</td>\n",
       "      <td>Warrant Arrests</td>\n",
       "      <td>WARRANT ARREST</td>\n",
       "      <td>A1</td>\n",
       "      <td>77</td>\n",
       "      <td>NaN</td>\n",
       "      <td>2019-05-23 08:56:00</td>\n",
       "      <td>2019</td>\n",
       "      <td>5</td>\n",
       "      <td>Thursday</td>\n",
       "      <td>8</td>\n",
       "      <td>Part Three</td>\n",
       "      <td>NEW SUDBURY ST</td>\n",
       "      <td>42.361839</td>\n",
       "      <td>-71.059765</td>\n",
       "      <td>(42.36183857, -71.05976489)</td>\n",
       "    </tr>\n",
       "    <tr>\n",
       "      <th>413671</th>\n",
       "      <td>I010370257-00</td>\n",
       "      <td>3125</td>\n",
       "      <td>Warrant Arrests</td>\n",
       "      <td>WARRANT ARREST</td>\n",
       "      <td>E13</td>\n",
       "      <td>569</td>\n",
       "      <td>NaN</td>\n",
       "      <td>2016-05-31 19:35:00</td>\n",
       "      <td>2016</td>\n",
       "      <td>5</td>\n",
       "      <td>Tuesday</td>\n",
       "      <td>19</td>\n",
       "      <td>Part Three</td>\n",
       "      <td>NEW WASHINGTON ST</td>\n",
       "      <td>42.302333</td>\n",
       "      <td>-71.111565</td>\n",
       "      <td>(42.30233307, -71.11156487)</td>\n",
       "    </tr>\n",
       "  </tbody>\n",
       "</table>\n",
       "<p>412042 rows × 17 columns</p>\n",
       "</div>"
      ],
      "text/plain": [
       "       INCIDENT_NUMBER  OFFENSE_CODE               OFFENSE_CODE_GROUP  \\\n",
       "0           I192064813          3006               Medical Assistance   \n",
       "1           I192064810          3410                            Towed   \n",
       "2           I192064808          2003  Offenses Against Child / Family   \n",
       "3           I192064803           802                   Simple Assault   \n",
       "4           I192064800          3114             Investigate Property   \n",
       "...                ...           ...                              ...   \n",
       "413667   I020691165-00          3125                  Warrant Arrests   \n",
       "413668   I020674147-00          3125                  Warrant Arrests   \n",
       "413669   I020669075-00          3125                  Warrant Arrests   \n",
       "413670   I020662996-00          3125                  Warrant Arrests   \n",
       "413671   I010370257-00          3125                  Warrant Arrests   \n",
       "\n",
       "                    OFFENSE_DESCRIPTION DISTRICT REPORTING_AREA SHOOTING  \\\n",
       "0         SICK/INJURED/MEDICAL - PERSON      D14            794      NaN   \n",
       "1                   TOWED MOTOR VEHICLE       B3            435      NaN   \n",
       "2       CHILD ENDANGERMENT (NO ASSAULT)      C11            355      NaN   \n",
       "3              ASSAULT SIMPLE - BATTERY      E18            554      NaN   \n",
       "4                  INVESTIGATE PROPERTY      E18            502      NaN   \n",
       "...                                 ...      ...            ...      ...   \n",
       "413667                   WARRANT ARREST       A1             77      NaN   \n",
       "413668                   WARRANT ARREST       A1             77      NaN   \n",
       "413669                   WARRANT ARREST       A1             77      NaN   \n",
       "413670                   WARRANT ARREST       A1             77      NaN   \n",
       "413671                   WARRANT ARREST      E13            569      NaN   \n",
       "\n",
       "           OCCURRED_ON_DATE  YEAR  MONTH DAY_OF_WEEK  HOUR    UCR_PART  \\\n",
       "0       2019-08-17 21:00:00  2019      8    Saturday    21  Part Three   \n",
       "1       2019-08-17 21:15:00  2019      8    Saturday    21  Part Three   \n",
       "2       2019-08-17 19:33:00  2019      8    Saturday    19    Part Two   \n",
       "3       2019-08-17 20:55:00  2019      8    Saturday    20    Part Two   \n",
       "4       2019-08-17 19:39:00  2019      8    Saturday    19  Part Three   \n",
       "...                     ...   ...    ...         ...   ...         ...   \n",
       "413667  2019-05-23 08:00:00  2019      5    Thursday     8  Part Three   \n",
       "413668  2019-05-23 08:00:00  2019      5    Thursday     8  Part Three   \n",
       "413669  2019-05-23 08:00:00  2019      5    Thursday     8  Part Three   \n",
       "413670  2019-05-23 08:56:00  2019      5    Thursday     8  Part Three   \n",
       "413671  2016-05-31 19:35:00  2016      5     Tuesday    19  Part Three   \n",
       "\n",
       "                   STREET        Lat       Long                     Location  \n",
       "0               QUINT AVE        NaN        NaN     (0.00000000, 0.00000000)  \n",
       "1            PEACEVALE RD  42.287167 -71.076335  (42.28716674, -71.07633479)  \n",
       "2               GIBSON ST  42.297555 -71.059709  (42.29755533, -71.05970910)  \n",
       "3        METROPOLITAN AVE  42.272509 -71.123190  (42.27250898, -71.12318965)  \n",
       "4            PHILBRICK ST  42.285459 -71.118027  (42.28545883, -71.11802667)  \n",
       "...                   ...        ...        ...                          ...  \n",
       "413667     NEW SUDBURY ST  42.361839 -71.059765  (42.36183857, -71.05976489)  \n",
       "413668     NEW SUDBURY ST  42.361839 -71.059765  (42.36183857, -71.05976489)  \n",
       "413669     NEW SUDBURY ST  42.361839 -71.059765  (42.36183857, -71.05976489)  \n",
       "413670     NEW SUDBURY ST  42.361839 -71.059765  (42.36183857, -71.05976489)  \n",
       "413671  NEW WASHINGTON ST  42.302333 -71.111565  (42.30233307, -71.11156487)  \n",
       "\n",
       "[412042 rows x 17 columns]"
      ]
     },
     "execution_count": 85,
     "metadata": {},
     "output_type": "execute_result"
    }
   ],
   "source": [
    "#find if there is any missiong value in rows\n",
    "#missing value represent by NAN\n",
    "\n",
    "\n",
    "row_mis=crime.isnull().any(axis=1)\n",
    "crime[row_mis]"
   ]
  },
  {
   "cell_type": "code",
   "execution_count": 86,
   "metadata": {},
   "outputs": [],
   "source": [
    "#drop a column we are droping year,month,hour because\n",
    "#that information is present in OCCURRED_ON_DATE\n",
    "clean_crime=crime.drop(columns=['YEAR','MONTH','HOUR'])"
   ]
  },
  {
   "cell_type": "code",
   "execution_count": 87,
   "metadata": {},
   "outputs": [
    {
     "data": {
      "text/html": [
       "<div>\n",
       "<style scoped>\n",
       "    .dataframe tbody tr th:only-of-type {\n",
       "        vertical-align: middle;\n",
       "    }\n",
       "\n",
       "    .dataframe tbody tr th {\n",
       "        vertical-align: top;\n",
       "    }\n",
       "\n",
       "    .dataframe thead th {\n",
       "        text-align: right;\n",
       "    }\n",
       "</style>\n",
       "<table border=\"1\" class=\"dataframe\">\n",
       "  <thead>\n",
       "    <tr style=\"text-align: right;\">\n",
       "      <th></th>\n",
       "      <th>INCIDENT_NUMBER</th>\n",
       "      <th>OFFENSE_CODE</th>\n",
       "      <th>OFFENSE_CODE_GROUP</th>\n",
       "      <th>OFFENSE_DESCRIPTION</th>\n",
       "      <th>DISTRICT</th>\n",
       "      <th>REPORTING_AREA</th>\n",
       "      <th>SHOOTING</th>\n",
       "      <th>OCCURRED_ON_DATE</th>\n",
       "      <th>DAY_OF_WEEK</th>\n",
       "      <th>UCR_PART</th>\n",
       "      <th>STREET</th>\n",
       "      <th>Lat</th>\n",
       "      <th>Long</th>\n",
       "      <th>Location</th>\n",
       "    </tr>\n",
       "  </thead>\n",
       "  <tbody>\n",
       "    <tr>\n",
       "      <th>0</th>\n",
       "      <td>I192064813</td>\n",
       "      <td>3006</td>\n",
       "      <td>Medical Assistance</td>\n",
       "      <td>SICK/INJURED/MEDICAL - PERSON</td>\n",
       "      <td>D14</td>\n",
       "      <td>794</td>\n",
       "      <td>NaN</td>\n",
       "      <td>2019-08-17 21:00:00</td>\n",
       "      <td>Saturday</td>\n",
       "      <td>Part Three</td>\n",
       "      <td>QUINT AVE</td>\n",
       "      <td>NaN</td>\n",
       "      <td>NaN</td>\n",
       "      <td>(0.00000000, 0.00000000)</td>\n",
       "    </tr>\n",
       "    <tr>\n",
       "      <th>1</th>\n",
       "      <td>I192064810</td>\n",
       "      <td>3410</td>\n",
       "      <td>Towed</td>\n",
       "      <td>TOWED MOTOR VEHICLE</td>\n",
       "      <td>B3</td>\n",
       "      <td>435</td>\n",
       "      <td>NaN</td>\n",
       "      <td>2019-08-17 21:15:00</td>\n",
       "      <td>Saturday</td>\n",
       "      <td>Part Three</td>\n",
       "      <td>PEACEVALE RD</td>\n",
       "      <td>42.287167</td>\n",
       "      <td>-71.076335</td>\n",
       "      <td>(42.28716674, -71.07633479)</td>\n",
       "    </tr>\n",
       "    <tr>\n",
       "      <th>2</th>\n",
       "      <td>I192064808</td>\n",
       "      <td>2003</td>\n",
       "      <td>Offenses Against Child / Family</td>\n",
       "      <td>CHILD ENDANGERMENT (NO ASSAULT)</td>\n",
       "      <td>C11</td>\n",
       "      <td>355</td>\n",
       "      <td>NaN</td>\n",
       "      <td>2019-08-17 19:33:00</td>\n",
       "      <td>Saturday</td>\n",
       "      <td>Part Two</td>\n",
       "      <td>GIBSON ST</td>\n",
       "      <td>42.297555</td>\n",
       "      <td>-71.059709</td>\n",
       "      <td>(42.29755533, -71.05970910)</td>\n",
       "    </tr>\n",
       "    <tr>\n",
       "      <th>3</th>\n",
       "      <td>I192064803</td>\n",
       "      <td>802</td>\n",
       "      <td>Simple Assault</td>\n",
       "      <td>ASSAULT SIMPLE - BATTERY</td>\n",
       "      <td>E18</td>\n",
       "      <td>554</td>\n",
       "      <td>NaN</td>\n",
       "      <td>2019-08-17 20:55:00</td>\n",
       "      <td>Saturday</td>\n",
       "      <td>Part Two</td>\n",
       "      <td>METROPOLITAN AVE</td>\n",
       "      <td>42.272509</td>\n",
       "      <td>-71.123190</td>\n",
       "      <td>(42.27250898, -71.12318965)</td>\n",
       "    </tr>\n",
       "    <tr>\n",
       "      <th>4</th>\n",
       "      <td>I192064800</td>\n",
       "      <td>3114</td>\n",
       "      <td>Investigate Property</td>\n",
       "      <td>INVESTIGATE PROPERTY</td>\n",
       "      <td>E18</td>\n",
       "      <td>502</td>\n",
       "      <td>NaN</td>\n",
       "      <td>2019-08-17 19:39:00</td>\n",
       "      <td>Saturday</td>\n",
       "      <td>Part Three</td>\n",
       "      <td>PHILBRICK ST</td>\n",
       "      <td>42.285459</td>\n",
       "      <td>-71.118027</td>\n",
       "      <td>(42.28545883, -71.11802667)</td>\n",
       "    </tr>\n",
       "    <tr>\n",
       "      <th>...</th>\n",
       "      <td>...</td>\n",
       "      <td>...</td>\n",
       "      <td>...</td>\n",
       "      <td>...</td>\n",
       "      <td>...</td>\n",
       "      <td>...</td>\n",
       "      <td>...</td>\n",
       "      <td>...</td>\n",
       "      <td>...</td>\n",
       "      <td>...</td>\n",
       "      <td>...</td>\n",
       "      <td>...</td>\n",
       "      <td>...</td>\n",
       "      <td>...</td>\n",
       "    </tr>\n",
       "    <tr>\n",
       "      <th>413667</th>\n",
       "      <td>I020691165-00</td>\n",
       "      <td>3125</td>\n",
       "      <td>Warrant Arrests</td>\n",
       "      <td>WARRANT ARREST</td>\n",
       "      <td>A1</td>\n",
       "      <td>77</td>\n",
       "      <td>NaN</td>\n",
       "      <td>2019-05-23 08:00:00</td>\n",
       "      <td>Thursday</td>\n",
       "      <td>Part Three</td>\n",
       "      <td>NEW SUDBURY ST</td>\n",
       "      <td>42.361839</td>\n",
       "      <td>-71.059765</td>\n",
       "      <td>(42.36183857, -71.05976489)</td>\n",
       "    </tr>\n",
       "    <tr>\n",
       "      <th>413668</th>\n",
       "      <td>I020674147-00</td>\n",
       "      <td>3125</td>\n",
       "      <td>Warrant Arrests</td>\n",
       "      <td>WARRANT ARREST</td>\n",
       "      <td>A1</td>\n",
       "      <td>77</td>\n",
       "      <td>NaN</td>\n",
       "      <td>2019-05-23 08:00:00</td>\n",
       "      <td>Thursday</td>\n",
       "      <td>Part Three</td>\n",
       "      <td>NEW SUDBURY ST</td>\n",
       "      <td>42.361839</td>\n",
       "      <td>-71.059765</td>\n",
       "      <td>(42.36183857, -71.05976489)</td>\n",
       "    </tr>\n",
       "    <tr>\n",
       "      <th>413669</th>\n",
       "      <td>I020669075-00</td>\n",
       "      <td>3125</td>\n",
       "      <td>Warrant Arrests</td>\n",
       "      <td>WARRANT ARREST</td>\n",
       "      <td>A1</td>\n",
       "      <td>77</td>\n",
       "      <td>NaN</td>\n",
       "      <td>2019-05-23 08:00:00</td>\n",
       "      <td>Thursday</td>\n",
       "      <td>Part Three</td>\n",
       "      <td>NEW SUDBURY ST</td>\n",
       "      <td>42.361839</td>\n",
       "      <td>-71.059765</td>\n",
       "      <td>(42.36183857, -71.05976489)</td>\n",
       "    </tr>\n",
       "    <tr>\n",
       "      <th>413670</th>\n",
       "      <td>I020662996-00</td>\n",
       "      <td>3125</td>\n",
       "      <td>Warrant Arrests</td>\n",
       "      <td>WARRANT ARREST</td>\n",
       "      <td>A1</td>\n",
       "      <td>77</td>\n",
       "      <td>NaN</td>\n",
       "      <td>2019-05-23 08:56:00</td>\n",
       "      <td>Thursday</td>\n",
       "      <td>Part Three</td>\n",
       "      <td>NEW SUDBURY ST</td>\n",
       "      <td>42.361839</td>\n",
       "      <td>-71.059765</td>\n",
       "      <td>(42.36183857, -71.05976489)</td>\n",
       "    </tr>\n",
       "    <tr>\n",
       "      <th>413671</th>\n",
       "      <td>I010370257-00</td>\n",
       "      <td>3125</td>\n",
       "      <td>Warrant Arrests</td>\n",
       "      <td>WARRANT ARREST</td>\n",
       "      <td>E13</td>\n",
       "      <td>569</td>\n",
       "      <td>NaN</td>\n",
       "      <td>2016-05-31 19:35:00</td>\n",
       "      <td>Tuesday</td>\n",
       "      <td>Part Three</td>\n",
       "      <td>NEW WASHINGTON ST</td>\n",
       "      <td>42.302333</td>\n",
       "      <td>-71.111565</td>\n",
       "      <td>(42.30233307, -71.11156487)</td>\n",
       "    </tr>\n",
       "  </tbody>\n",
       "</table>\n",
       "<p>413672 rows × 14 columns</p>\n",
       "</div>"
      ],
      "text/plain": [
       "       INCIDENT_NUMBER  OFFENSE_CODE               OFFENSE_CODE_GROUP  \\\n",
       "0           I192064813          3006               Medical Assistance   \n",
       "1           I192064810          3410                            Towed   \n",
       "2           I192064808          2003  Offenses Against Child / Family   \n",
       "3           I192064803           802                   Simple Assault   \n",
       "4           I192064800          3114             Investigate Property   \n",
       "...                ...           ...                              ...   \n",
       "413667   I020691165-00          3125                  Warrant Arrests   \n",
       "413668   I020674147-00          3125                  Warrant Arrests   \n",
       "413669   I020669075-00          3125                  Warrant Arrests   \n",
       "413670   I020662996-00          3125                  Warrant Arrests   \n",
       "413671   I010370257-00          3125                  Warrant Arrests   \n",
       "\n",
       "                    OFFENSE_DESCRIPTION DISTRICT REPORTING_AREA SHOOTING  \\\n",
       "0         SICK/INJURED/MEDICAL - PERSON      D14            794      NaN   \n",
       "1                   TOWED MOTOR VEHICLE       B3            435      NaN   \n",
       "2       CHILD ENDANGERMENT (NO ASSAULT)      C11            355      NaN   \n",
       "3              ASSAULT SIMPLE - BATTERY      E18            554      NaN   \n",
       "4                  INVESTIGATE PROPERTY      E18            502      NaN   \n",
       "...                                 ...      ...            ...      ...   \n",
       "413667                   WARRANT ARREST       A1             77      NaN   \n",
       "413668                   WARRANT ARREST       A1             77      NaN   \n",
       "413669                   WARRANT ARREST       A1             77      NaN   \n",
       "413670                   WARRANT ARREST       A1             77      NaN   \n",
       "413671                   WARRANT ARREST      E13            569      NaN   \n",
       "\n",
       "           OCCURRED_ON_DATE DAY_OF_WEEK    UCR_PART             STREET  \\\n",
       "0       2019-08-17 21:00:00    Saturday  Part Three          QUINT AVE   \n",
       "1       2019-08-17 21:15:00    Saturday  Part Three       PEACEVALE RD   \n",
       "2       2019-08-17 19:33:00    Saturday    Part Two          GIBSON ST   \n",
       "3       2019-08-17 20:55:00    Saturday    Part Two   METROPOLITAN AVE   \n",
       "4       2019-08-17 19:39:00    Saturday  Part Three       PHILBRICK ST   \n",
       "...                     ...         ...         ...                ...   \n",
       "413667  2019-05-23 08:00:00    Thursday  Part Three     NEW SUDBURY ST   \n",
       "413668  2019-05-23 08:00:00    Thursday  Part Three     NEW SUDBURY ST   \n",
       "413669  2019-05-23 08:00:00    Thursday  Part Three     NEW SUDBURY ST   \n",
       "413670  2019-05-23 08:56:00    Thursday  Part Three     NEW SUDBURY ST   \n",
       "413671  2016-05-31 19:35:00     Tuesday  Part Three  NEW WASHINGTON ST   \n",
       "\n",
       "              Lat       Long                     Location  \n",
       "0             NaN        NaN     (0.00000000, 0.00000000)  \n",
       "1       42.287167 -71.076335  (42.28716674, -71.07633479)  \n",
       "2       42.297555 -71.059709  (42.29755533, -71.05970910)  \n",
       "3       42.272509 -71.123190  (42.27250898, -71.12318965)  \n",
       "4       42.285459 -71.118027  (42.28545883, -71.11802667)  \n",
       "...           ...        ...                          ...  \n",
       "413667  42.361839 -71.059765  (42.36183857, -71.05976489)  \n",
       "413668  42.361839 -71.059765  (42.36183857, -71.05976489)  \n",
       "413669  42.361839 -71.059765  (42.36183857, -71.05976489)  \n",
       "413670  42.361839 -71.059765  (42.36183857, -71.05976489)  \n",
       "413671  42.302333 -71.111565  (42.30233307, -71.11156487)  \n",
       "\n",
       "[413672 rows x 14 columns]"
      ]
     },
     "execution_count": 87,
     "metadata": {},
     "output_type": "execute_result"
    }
   ],
   "source": [
    "clean_crime\n"
   ]
  },
  {
   "cell_type": "code",
   "execution_count": 88,
   "metadata": {},
   "outputs": [
    {
     "data": {
      "text/plain": [
       "array(['Medical Assistance', 'Towed', 'Offenses Against Child / Family',\n",
       "       'Simple Assault', 'Investigate Property', 'Verbal Disputes',\n",
       "       'Larceny', 'Fire Related Reports', 'Missing Person Reported',\n",
       "       'Robbery', 'Firearm Violations', 'Residential Burglary',\n",
       "       'Investigate Person', 'Drug Violation', 'Aggravated Assault',\n",
       "       'Violations', 'Motor Vehicle Accident Response', 'Property Found',\n",
       "       'Larceny From Motor Vehicle', 'Liquor Violation', 'Other',\n",
       "       'Harassment', 'Vandalism', 'Property Lost',\n",
       "       'Assembly or Gathering Violations', 'Warrant Arrests',\n",
       "       'Landlord/Tenant Disputes', 'Restraining Order Violations',\n",
       "       'Recovered Stolen Property', 'Auto Theft Recovery',\n",
       "       'Firearm Discovery', 'Other Burglary', 'Auto Theft',\n",
       "       'Commercial Burglary', 'Service', 'Police Service Incidents',\n",
       "       'Disorderly Conduct', 'Property Related Damage',\n",
       "       'Harbor Related Incidents', 'Fraud', 'Ballistics',\n",
       "       'Missing Person Located', 'Search Warrants', 'Confidence Games',\n",
       "       'Counterfeiting', 'License Violation', 'HOME INVASION',\n",
       "       'Operating Under the Influence', 'License Plate Related Incidents',\n",
       "       'Evading Fare', 'Embezzlement', 'Prisoner Related Incidents',\n",
       "       'Aircraft', 'Arson', 'Explosives', 'Homicide', 'Prostitution',\n",
       "       'Criminal Harassment', 'Bomb Hoax', 'Phone Call Complaints',\n",
       "       'HUMAN TRAFFICKING - INVOLUNTARY SERVITUDE', 'Manslaughter',\n",
       "       'HUMAN TRAFFICKING', 'Biological Threat', 'Gambling',\n",
       "       'INVESTIGATE PERSON', 'Burglary - No Property Taken'], dtype=object)"
      ]
     },
     "execution_count": 88,
     "metadata": {},
     "output_type": "execute_result"
    }
   ],
   "source": [
    "clean_crime['OFFENSE_CODE_GROUP'].unique()"
   ]
  },
  {
   "cell_type": "code",
   "execution_count": 89,
   "metadata": {},
   "outputs": [
    {
     "data": {
      "text/plain": [
       "array(['SICK/INJURED/MEDICAL - PERSON', 'TOWED MOTOR VEHICLE',\n",
       "       'CHILD ENDANGERMENT (NO ASSAULT)', 'ASSAULT SIMPLE - BATTERY',\n",
       "       'INVESTIGATE PROPERTY', 'VERBAL DISPUTE', 'LARCENY SHOPLIFTING',\n",
       "       'FIRE REPORT/ALARM - FALSE', 'SUDDEN DEATH', 'MISSING PERSON',\n",
       "       'ROBBERY - STREET', 'WEAPON - OTHER - CARRYING / POSSESSING, ETC',\n",
       "       'FIRE REPORT - HOUSE, BUILDING, ETC.',\n",
       "       'BURGLARY - RESIDENTIAL - NO FORCE', 'INVESTIGATE PERSON',\n",
       "       'LARCENY PURSE SNATCH - NO FORCE ',\n",
       "       'DRUGS - POSS CLASS B - COCAINE, ETC.', 'DRUGS - POSS CLASS E',\n",
       "       'ASSAULT - AGGRAVATED - BATTERY',\n",
       "       'VAL - OPERATING W/O AUTHORIZATION LAWFUL',\n",
       "       'M/V - LEAVING SCENE - PROPERTY DAMAGE', 'PROPERTY - FOUND',\n",
       "       'LARCENY THEFT FROM MV - NON-ACCESSORY', 'M/V ACCIDENT - OTHER',\n",
       "       'LIQUOR - DRINKING IN PUBLIC', 'BURGLARY - RESIDENTIAL - FORCE',\n",
       "       'M/V ACCIDENT - INVOLVING \\xa0BICYCLE - INJURY',\n",
       "       'THREATS TO DO BODILY HARM', 'HARASSMENT',\n",
       "       'LARCENY THEFT OF BICYCLE', 'VANDALISM', 'ROBBERY - OTHER',\n",
       "       'GRAFFITI', 'PROPERTY - LOST', 'DEMONSTRATIONS/RIOT',\n",
       "       'TRESPASSING', 'WARRANT ARREST', 'LANDLORD - TENANT SERVICE',\n",
       "       'ASSAULT - AGGRAVATED', 'VIOL. OF RESTRAINING ORDER W NO ARREST',\n",
       "       'LARCENY THEFT FROM BUILDING',\n",
       "       'STOLEN PROPERTY - BUYING / RECEIVING / POSSESSING',\n",
       "       'M/V ACCIDENT - PERSONAL INJURY', 'LARCENY ALL OTHERS',\n",
       "       'BURGLARY - RESIDENTIAL - ATTEMPT',\n",
       "       'DRUGS - POSS CLASS A - INTENT TO MFR DIST DISP',\n",
       "       'LARCENY THEFT OF MV PARTS & ACCESSORIES',\n",
       "       'VAL - OPERATING UNREG/UNINS \\xa0CAR',\n",
       "       'VAL - OPERATING AFTER REV/SUSP.',\n",
       "       'RECOVERED - MV RECOVERED IN BOSTON (STOLEN OUTSIDE BOSTON)',\n",
       "       'FIREARM/WEAPON - FOUND OR CONFISCATED',\n",
       "       'M/V ACCIDENT - PROPERTY \\xa0DAMAGE',\n",
       "       'DRUGS - SICK ASSIST - HEROIN', 'BURGLARY - OTHER - FORCE',\n",
       "       'DRUGS - POSS CLASS A - HEROIN, ETC. ', 'AUTO THEFT',\n",
       "       'SICK/INJURED/MEDICAL - POLICE', 'ROBBERY - COMMERCIAL',\n",
       "       'VAL - VIOLATION OF AUTO LAW - OTHER',\n",
       "       'VAL - OPERATING WITHOUT LICENSE',\n",
       "       'DRUGS - SICK ASSIST - OTHER HARMFUL DRUG',\n",
       "       'BURGLARY - COMMERICAL - FORCE',\n",
       "       'M/V ACCIDENT INVOLVING PEDESTRIAN - INJURY', 'ANIMAL INCIDENTS',\n",
       "       'OTHER OFFENSE', 'SERVICE TO OTHER PD INSIDE OF MA.',\n",
       "       'DISTURBING THE PEACE', 'DISORDERLY CONDUCT',\n",
       "       'M/V ACCIDENT - POLICE VEHICLE', 'SUICIDE / SUICIDE ATTEMPT',\n",
       "       'M/V - LEAVING SCENE - PERSONAL INJURY',\n",
       "       'AUTO THEFT - MOTORCYCLE / SCOOTER',\n",
       "       'DRUGS - POSS CLASS E - INTENT TO MFR DIST DISP',\n",
       "       'PROPERTY - ACCIDENTAL DAMAGE', 'HARBOR INCIDENT / VIOLATION',\n",
       "       'FRAUD - FALSE PRETENSE / SCHEME', 'PROPERTY - MISSING',\n",
       "       'POSSESSION OF BURGLARIOUS TOOLS', 'BALLISTICS EVIDENCE/FOUND',\n",
       "       'MISSING PERSON - LOCATED', 'M/V ACCIDENT - OTHER CITY VEHICLE',\n",
       "       'INVESTIGATION FOR ANOTHER AGENCY',\n",
       "       'DRUGS - POSS CLASS B - INTENT TO MFR DIST DISP',\n",
       "       'VIOLATION - CITY ORDINANCE',\n",
       "       'M/V ACCIDENT - INVOLVING BICYCLE - NO INJURY',\n",
       "       'WEAPON - FIREARM - OTHER VIOLATION',\n",
       "       'DRUGS - SALE / MANUFACTURING', 'SEARCH WARRANT',\n",
       "       'FRAUD - CREDIT CARD / ATM FRAUD', 'DRUGS - OTHER',\n",
       "       'DRUGS - POSS CLASS D - INTENT TO MFR DIST DISP',\n",
       "       'DRUGS - POSS CLASS C', 'DEATH INVESTIGATION',\n",
       "       'FORGERY / COUNTERFEITING', 'AUTO THEFT - LEASED/RENTED VEHICLE',\n",
       "       'FRAUD - IMPERSONATION',\n",
       "       'M/V ACCIDENT - INVOLVING PEDESTRIAN - NO INJURY',\n",
       "       'ASSAULT - SIMPLE', 'SERVICE TO OTHER PD OUTSIDE OF MA.',\n",
       "       'LICENSE PREMISE VIOLATION', 'HOME INVASION',\n",
       "       'WEAPON - FIREARM - CARRYING / POSSESSING, ETC',\n",
       "       'OPERATING UNDER THE INFLUENCE DRUGS',\n",
       "       'MISSING PERSON - NOT REPORTED - LOCATED',\n",
       "       'PROPERTY - STOLEN THEN RECOVERED', 'ANNOYING AND ACCOSTING',\n",
       "       'VIOL. OF RESTRAINING ORDER W ARREST',\n",
       "       'WEAPON - OTHER - OTHER VIOLATION', 'M/V PLATES - LOST',\n",
       "       'DRUGS - CLASS A TRAFFICKING OVER 18 GRAMS',\n",
       "       'ANIMAL CONTROL - DOG BITES - ETC.', 'DRUGS - POSS CLASS D',\n",
       "       'FRAUD - WIRE', 'CHILD ABANDONMENT (NO ASSAULT)',\n",
       "       'NOISY PARTY/RADIO-NO ARREST', 'BURGLARY - OTHER - NO FORCE',\n",
       "       'ROBBERY - HOME INVASION', 'KIDNAPPING - ENTICING OR ATTEMPTED',\n",
       "       'PROPERTY - LOST THEN LOCATED', 'EVADING FARE',\n",
       "       'DRUGS - CLASS B TRAFFICKING OVER 18 GRAMS',\n",
       "       'DRUGS - CONSP TO VIOL CONTROLLED SUBSTANCE',\n",
       "       'OPERATING UNDER THE INFLUENCE ALCOHOL',\n",
       "       'DRUGS - POSS CLASS C - INTENT TO MFR DIST DISP',\n",
       "       'DRUGS - POSSESSION OF DRUG PARAPHANALIA',\n",
       "       'OBSCENE MATERIALS - PORNOGRAPHY', 'AFFRAY', 'EMBEZZLEMENT',\n",
       "       'FUGITIVE FROM JUSTICE', 'DANGEROUS OR HAZARDOUS CONDITION',\n",
       "       'BURGLARY - OTHER - ATTEMPT', 'LARCENY PICK-POCKET',\n",
       "       'AIRCRAFT INCIDENTS', 'ARSON', 'DRUGS - POSSESSION',\n",
       "       'EXPLOSIVES - TURNED IN OR FOUND', 'ROBBERY - BANK',\n",
       "       'BURGLARY - COMMERICAL - ATTEMPT',\n",
       "       'FIRE REPORT - CAR, BRUSH, ETC.', 'CHINS',\n",
       "       'PROTECTIVE CUSTODY / SAFEKEEPING', 'ROBBERY - CAR JACKING',\n",
       "       'RECOVERED STOLEN PLATE', 'LIQUOR LAW VIOLATION',\n",
       "       'EXTORTION OR BLACKMAIL', 'INTIMIDATING WITNESS',\n",
       "       'CHILD ENDANGERMENT', 'KIDNAPPING/CUSTODIAL KIDNAPPING',\n",
       "       'MURDER, NON-NEGLIGIENT MANSLAUGHTER',\n",
       "       'BURGLARY - COMMERICAL - NO FORCE',\n",
       "       'VIOLATION - HAWKER AND PEDDLER',\n",
       "       'DRUGS - SICK ASSIST - OTHER NARCOTIC', 'ANIMAL ABUSE',\n",
       "       'PROSTITUTION - SOLICITING', 'FIREARM/WEAPON - LOST',\n",
       "       'REPORT AFFECTING OTHER DEPTS.', 'CRIMINAL HARASSMENT',\n",
       "       'BOMB THREAT', 'EXPLOSIVES - POSSESSION OR USE', 'STALKING',\n",
       "       'NOISY PARTY/RADIO-ARREST',\n",
       "       'WEAPON - FIREARM - SALE / TRAFFICKING',\n",
       "       'CONTRIBUTING TO DELINQUENCY OF MINOR',\n",
       "       'INJURY BICYCLE NO M/V INVOLVED', 'CONSPIRACY EXCEPT DRUG LAW',\n",
       "       'OBSCENE PHONE CALLS', 'FRAUD - WELFARE',\n",
       "       'PRISONER - SUICIDE / SUICIDE ATTEMPT',\n",
       "       'VIOLATION - CITY ORDINANCE CONSTRUCTION PERMIT',\n",
       "       'DRUGS - CLASS D TRAFFICKING OVER 50 GRAMS',\n",
       "       'PROSTITUTION - COMMON NIGHTWALKER',\n",
       "       'HUMAN TRAFFICKING - INVOLUNTARY SERVITUDE',\n",
       "       'MANSLAUGHTER - VEHICLE - NEGLIGENCE', 'TRUANCY / RUNAWAY',\n",
       "       'PROPERTY - CONCEALING LEASED', 'ABDUCTION - INTICING',\n",
       "       'PROSTITUTION', 'FIREARM/WEAPON - ACCIDENTAL INJURY / DEATH',\n",
       "       'LARCENY THEFT FROM COIN-OP MACHINE',\n",
       "       'PROSTITUTION - ASSISTING OR PROMOTING',\n",
       "       'PRISONER ESCAPE / ESCAPE & RECAPTURE',\n",
       "       'HUMAN TRAFFICKING - COMMERCIAL SEX ACTS',\n",
       "       'GATHERING CAUSING ANNOYANCE', 'BIOLOGICAL THREATS',\n",
       "       'PRISONER ATTEMPT TO RESCUE', 'GAMBLING - BETTING / WAGERING',\n",
       "       'CUSTODIAL KIDNAPPING', 'MANSLAUGHTER - NON-VEHICLE - NEGLIGENCE',\n",
       "       'DRUGS - GLUE INHALATION', 'KILLING OF FELON BY POLICE',\n",
       "       'COUNTERFEITING', 'LARCENY NON-ACCESSORY FROM VEH. $50 TO $199',\n",
       "       'ANNOYING AND ACCOSTIN', 'LARCENY BICYCLE $200 & OVER',\n",
       "       'DRUGS - POSS CLASS A - HEROIN, ETC.',\n",
       "       'LARCENY SHOPLIFTING UNDER $50',\n",
       "       'A&B HANDS, FEET, ETC.  - MED. ATTENTION REQ.',\n",
       "       'ASSAULT & BATTERY D/W - OTHER',\n",
       "       'DRUGS - POSS CLASS D - MARIJUANA, ETC.',\n",
       "       'LARCENY OTHER $200 & OVER', 'LARCENY IN A BUILDING $200 & OVER',\n",
       "       'FIREARM/WEAPON - POSSESSION OF DANGEROUS',\n",
       "       'FIREARM/WEAPON - CARRY - SELL - RENT',\n",
       "       'ASSAULT & BATTERY D/W - OTHER ON POLICE OFFICER',\n",
       "       'A&B ON POLICE OFFICER', 'ASSAULT D/W - OTHER',\n",
       "       'ASSAULT & BATTERY', 'AUTO THEFT - RECOVERED IN BY POLICE',\n",
       "       'ROBBERY ATTEMPT - KNIFE - BANK',\n",
       "       'ASSAULT D/W - KNIFE ON POLICE OFFICER',\n",
       "       'ROBBERY - UNARMED - STREET', 'LARCENY SHOPLIFTING $200 & OVER',\n",
       "       'FORGERY OR UTTERING', 'FRAUD - FALSE PRETENSE',\n",
       "       'AUTO THEFT LEASE/RENT VEHICLE', 'VIOLATION - RESTRAINING ORDER',\n",
       "       'ROBBERY - UNARMED - CHAIN STORE',\n",
       "       'LARCENY IN A BUILDING $50 TO $199', 'LARCENY OTHER $50 TO $199',\n",
       "       'PROPERTY - RECEIVING STOLEN',\n",
       "       'AUTO THEFT - OUTSIDE - RECOVERED IN BOSTON',\n",
       "       'ROBBERY - KNIFE - STREET',\n",
       "       'LARCENY NON-ACCESSORY FROM VEH. $200 & OVER',\n",
       "       'LARCENY NON-ACCESSORY FROM VEH. UNDER $50',\n",
       "       'DRUGS - POSS CLASS E INTENT TO MF DIST DISP',\n",
       "       'ASSAULT & BATTERY D/W - KNIFE',\n",
       "       'B&E NON-RESIDENCE DAY - NO FORCE', 'LARCENY OTHER UNDER $50',\n",
       "       'LARCENY IN A BUILDING UNDER $50', 'DISORDERLY PERSON',\n",
       "       'B&E RESIDENCE NIGHT - ATTEMPT FORCE', 'CHILD ABUSE',\n",
       "       'ROBBERY - UNARMED - BUSINESS', 'AUTO THEFT OTHER',\n",
       "       'FRAUDS - ALL OTHER', 'B&E RESIDENCE DAY - NO PROP TAKEN',\n",
       "       'LARCENY SHOPLIFTING $50 TO $199', 'ROBBERY - UNARMED - RESIDENCE',\n",
       "       'B&E NON-RESIDENCE DAY - FORCIBLE',\n",
       "       'B&E NON-RESIDENCE DAY - NO PROP TAKEN',\n",
       "       'B&E RESIDENCE DAY - NO FORCE', 'B&E NON-RESIDENCE NIGHT - FORCE',\n",
       "       'PROSTITUTE - COMMON NIGHTWALKER',\n",
       "       'DRUGS - POSS CLASS D - INTENT MFR DIST DISP'], dtype=object)"
      ]
     },
     "execution_count": 89,
     "metadata": {},
     "output_type": "execute_result"
    }
   ],
   "source": [
    "clean_crime['OFFENSE_DESCRIPTION'].unique()"
   ]
  },
  {
   "cell_type": "code",
   "execution_count": 90,
   "metadata": {},
   "outputs": [
    {
     "data": {
      "text/plain": [
       "array(['Saturday', 'Friday', 'Wednesday', 'Thursday', 'Monday', 'Tuesday',\n",
       "       'Sunday'], dtype=object)"
      ]
     },
     "execution_count": 90,
     "metadata": {},
     "output_type": "execute_result"
    }
   ],
   "source": [
    "clean_crime['DAY_OF_WEEK'].unique()"
   ]
  },
  {
   "cell_type": "code",
   "execution_count": 91,
   "metadata": {},
   "outputs": [],
   "source": [
    "#droping location because  lat and long is present sapratly\n",
    "clean_crime=clean_crime.drop(columns=['Location'])\n"
   ]
  },
  {
   "cell_type": "code",
   "execution_count": 93,
   "metadata": {},
   "outputs": [
    {
     "data": {
      "text/html": [
       "<div>\n",
       "<style scoped>\n",
       "    .dataframe tbody tr th:only-of-type {\n",
       "        vertical-align: middle;\n",
       "    }\n",
       "\n",
       "    .dataframe tbody tr th {\n",
       "        vertical-align: top;\n",
       "    }\n",
       "\n",
       "    .dataframe thead th {\n",
       "        text-align: right;\n",
       "    }\n",
       "</style>\n",
       "<table border=\"1\" class=\"dataframe\">\n",
       "  <thead>\n",
       "    <tr style=\"text-align: right;\">\n",
       "      <th></th>\n",
       "      <th>INCIDENT_NUMBER</th>\n",
       "      <th>OFFENSE_CODE</th>\n",
       "      <th>OFFENSE_CODE_GROUP</th>\n",
       "      <th>OFFENSE_DESCRIPTION</th>\n",
       "      <th>DISTRICT</th>\n",
       "      <th>REPORTING_AREA</th>\n",
       "      <th>SHOOTING</th>\n",
       "      <th>OCCURRED_ON_DATE</th>\n",
       "      <th>DAY_OF_WEEK</th>\n",
       "      <th>UCR_PART</th>\n",
       "      <th>STREET</th>\n",
       "      <th>Lat</th>\n",
       "      <th>Long</th>\n",
       "    </tr>\n",
       "  </thead>\n",
       "  <tbody>\n",
       "    <tr>\n",
       "      <th>0</th>\n",
       "      <td>I192064813</td>\n",
       "      <td>3006</td>\n",
       "      <td>Medical Assistance</td>\n",
       "      <td>SICK/INJURED/MEDICAL - PERSON</td>\n",
       "      <td>D14</td>\n",
       "      <td>794</td>\n",
       "      <td>NaN</td>\n",
       "      <td>2019-08-17 21:00:00</td>\n",
       "      <td>Saturday</td>\n",
       "      <td>Part Three</td>\n",
       "      <td>QUINT AVE</td>\n",
       "      <td>NaN</td>\n",
       "      <td>NaN</td>\n",
       "    </tr>\n",
       "    <tr>\n",
       "      <th>1</th>\n",
       "      <td>I192064810</td>\n",
       "      <td>3410</td>\n",
       "      <td>Towed</td>\n",
       "      <td>TOWED MOTOR VEHICLE</td>\n",
       "      <td>B3</td>\n",
       "      <td>435</td>\n",
       "      <td>NaN</td>\n",
       "      <td>2019-08-17 21:15:00</td>\n",
       "      <td>Saturday</td>\n",
       "      <td>Part Three</td>\n",
       "      <td>PEACEVALE RD</td>\n",
       "      <td>42.287167</td>\n",
       "      <td>-71.076335</td>\n",
       "    </tr>\n",
       "    <tr>\n",
       "      <th>2</th>\n",
       "      <td>I192064808</td>\n",
       "      <td>2003</td>\n",
       "      <td>Offenses Against Child / Family</td>\n",
       "      <td>CHILD ENDANGERMENT (NO ASSAULT)</td>\n",
       "      <td>C11</td>\n",
       "      <td>355</td>\n",
       "      <td>NaN</td>\n",
       "      <td>2019-08-17 19:33:00</td>\n",
       "      <td>Saturday</td>\n",
       "      <td>Part Two</td>\n",
       "      <td>GIBSON ST</td>\n",
       "      <td>42.297555</td>\n",
       "      <td>-71.059709</td>\n",
       "    </tr>\n",
       "    <tr>\n",
       "      <th>3</th>\n",
       "      <td>I192064803</td>\n",
       "      <td>802</td>\n",
       "      <td>Simple Assault</td>\n",
       "      <td>ASSAULT SIMPLE - BATTERY</td>\n",
       "      <td>E18</td>\n",
       "      <td>554</td>\n",
       "      <td>NaN</td>\n",
       "      <td>2019-08-17 20:55:00</td>\n",
       "      <td>Saturday</td>\n",
       "      <td>Part Two</td>\n",
       "      <td>METROPOLITAN AVE</td>\n",
       "      <td>42.272509</td>\n",
       "      <td>-71.123190</td>\n",
       "    </tr>\n",
       "    <tr>\n",
       "      <th>4</th>\n",
       "      <td>I192064800</td>\n",
       "      <td>3114</td>\n",
       "      <td>Investigate Property</td>\n",
       "      <td>INVESTIGATE PROPERTY</td>\n",
       "      <td>E18</td>\n",
       "      <td>502</td>\n",
       "      <td>NaN</td>\n",
       "      <td>2019-08-17 19:39:00</td>\n",
       "      <td>Saturday</td>\n",
       "      <td>Part Three</td>\n",
       "      <td>PHILBRICK ST</td>\n",
       "      <td>42.285459</td>\n",
       "      <td>-71.118027</td>\n",
       "    </tr>\n",
       "    <tr>\n",
       "      <th>...</th>\n",
       "      <td>...</td>\n",
       "      <td>...</td>\n",
       "      <td>...</td>\n",
       "      <td>...</td>\n",
       "      <td>...</td>\n",
       "      <td>...</td>\n",
       "      <td>...</td>\n",
       "      <td>...</td>\n",
       "      <td>...</td>\n",
       "      <td>...</td>\n",
       "      <td>...</td>\n",
       "      <td>...</td>\n",
       "      <td>...</td>\n",
       "    </tr>\n",
       "    <tr>\n",
       "      <th>413667</th>\n",
       "      <td>I020691165-00</td>\n",
       "      <td>3125</td>\n",
       "      <td>Warrant Arrests</td>\n",
       "      <td>WARRANT ARREST</td>\n",
       "      <td>A1</td>\n",
       "      <td>77</td>\n",
       "      <td>NaN</td>\n",
       "      <td>2019-05-23 08:00:00</td>\n",
       "      <td>Thursday</td>\n",
       "      <td>Part Three</td>\n",
       "      <td>NEW SUDBURY ST</td>\n",
       "      <td>42.361839</td>\n",
       "      <td>-71.059765</td>\n",
       "    </tr>\n",
       "    <tr>\n",
       "      <th>413668</th>\n",
       "      <td>I020674147-00</td>\n",
       "      <td>3125</td>\n",
       "      <td>Warrant Arrests</td>\n",
       "      <td>WARRANT ARREST</td>\n",
       "      <td>A1</td>\n",
       "      <td>77</td>\n",
       "      <td>NaN</td>\n",
       "      <td>2019-05-23 08:00:00</td>\n",
       "      <td>Thursday</td>\n",
       "      <td>Part Three</td>\n",
       "      <td>NEW SUDBURY ST</td>\n",
       "      <td>42.361839</td>\n",
       "      <td>-71.059765</td>\n",
       "    </tr>\n",
       "    <tr>\n",
       "      <th>413669</th>\n",
       "      <td>I020669075-00</td>\n",
       "      <td>3125</td>\n",
       "      <td>Warrant Arrests</td>\n",
       "      <td>WARRANT ARREST</td>\n",
       "      <td>A1</td>\n",
       "      <td>77</td>\n",
       "      <td>NaN</td>\n",
       "      <td>2019-05-23 08:00:00</td>\n",
       "      <td>Thursday</td>\n",
       "      <td>Part Three</td>\n",
       "      <td>NEW SUDBURY ST</td>\n",
       "      <td>42.361839</td>\n",
       "      <td>-71.059765</td>\n",
       "    </tr>\n",
       "    <tr>\n",
       "      <th>413670</th>\n",
       "      <td>I020662996-00</td>\n",
       "      <td>3125</td>\n",
       "      <td>Warrant Arrests</td>\n",
       "      <td>WARRANT ARREST</td>\n",
       "      <td>A1</td>\n",
       "      <td>77</td>\n",
       "      <td>NaN</td>\n",
       "      <td>2019-05-23 08:56:00</td>\n",
       "      <td>Thursday</td>\n",
       "      <td>Part Three</td>\n",
       "      <td>NEW SUDBURY ST</td>\n",
       "      <td>42.361839</td>\n",
       "      <td>-71.059765</td>\n",
       "    </tr>\n",
       "    <tr>\n",
       "      <th>413671</th>\n",
       "      <td>I010370257-00</td>\n",
       "      <td>3125</td>\n",
       "      <td>Warrant Arrests</td>\n",
       "      <td>WARRANT ARREST</td>\n",
       "      <td>E13</td>\n",
       "      <td>569</td>\n",
       "      <td>NaN</td>\n",
       "      <td>2016-05-31 19:35:00</td>\n",
       "      <td>Tuesday</td>\n",
       "      <td>Part Three</td>\n",
       "      <td>NEW WASHINGTON ST</td>\n",
       "      <td>42.302333</td>\n",
       "      <td>-71.111565</td>\n",
       "    </tr>\n",
       "  </tbody>\n",
       "</table>\n",
       "<p>413672 rows × 13 columns</p>\n",
       "</div>"
      ],
      "text/plain": [
       "       INCIDENT_NUMBER  OFFENSE_CODE               OFFENSE_CODE_GROUP  \\\n",
       "0           I192064813          3006               Medical Assistance   \n",
       "1           I192064810          3410                            Towed   \n",
       "2           I192064808          2003  Offenses Against Child / Family   \n",
       "3           I192064803           802                   Simple Assault   \n",
       "4           I192064800          3114             Investigate Property   \n",
       "...                ...           ...                              ...   \n",
       "413667   I020691165-00          3125                  Warrant Arrests   \n",
       "413668   I020674147-00          3125                  Warrant Arrests   \n",
       "413669   I020669075-00          3125                  Warrant Arrests   \n",
       "413670   I020662996-00          3125                  Warrant Arrests   \n",
       "413671   I010370257-00          3125                  Warrant Arrests   \n",
       "\n",
       "                    OFFENSE_DESCRIPTION DISTRICT REPORTING_AREA SHOOTING  \\\n",
       "0         SICK/INJURED/MEDICAL - PERSON      D14            794      NaN   \n",
       "1                   TOWED MOTOR VEHICLE       B3            435      NaN   \n",
       "2       CHILD ENDANGERMENT (NO ASSAULT)      C11            355      NaN   \n",
       "3              ASSAULT SIMPLE - BATTERY      E18            554      NaN   \n",
       "4                  INVESTIGATE PROPERTY      E18            502      NaN   \n",
       "...                                 ...      ...            ...      ...   \n",
       "413667                   WARRANT ARREST       A1             77      NaN   \n",
       "413668                   WARRANT ARREST       A1             77      NaN   \n",
       "413669                   WARRANT ARREST       A1             77      NaN   \n",
       "413670                   WARRANT ARREST       A1             77      NaN   \n",
       "413671                   WARRANT ARREST      E13            569      NaN   \n",
       "\n",
       "           OCCURRED_ON_DATE DAY_OF_WEEK    UCR_PART             STREET  \\\n",
       "0       2019-08-17 21:00:00    Saturday  Part Three          QUINT AVE   \n",
       "1       2019-08-17 21:15:00    Saturday  Part Three       PEACEVALE RD   \n",
       "2       2019-08-17 19:33:00    Saturday    Part Two          GIBSON ST   \n",
       "3       2019-08-17 20:55:00    Saturday    Part Two   METROPOLITAN AVE   \n",
       "4       2019-08-17 19:39:00    Saturday  Part Three       PHILBRICK ST   \n",
       "...                     ...         ...         ...                ...   \n",
       "413667  2019-05-23 08:00:00    Thursday  Part Three     NEW SUDBURY ST   \n",
       "413668  2019-05-23 08:00:00    Thursday  Part Three     NEW SUDBURY ST   \n",
       "413669  2019-05-23 08:00:00    Thursday  Part Three     NEW SUDBURY ST   \n",
       "413670  2019-05-23 08:56:00    Thursday  Part Three     NEW SUDBURY ST   \n",
       "413671  2016-05-31 19:35:00     Tuesday  Part Three  NEW WASHINGTON ST   \n",
       "\n",
       "              Lat       Long  \n",
       "0             NaN        NaN  \n",
       "1       42.287167 -71.076335  \n",
       "2       42.297555 -71.059709  \n",
       "3       42.272509 -71.123190  \n",
       "4       42.285459 -71.118027  \n",
       "...           ...        ...  \n",
       "413667  42.361839 -71.059765  \n",
       "413668  42.361839 -71.059765  \n",
       "413669  42.361839 -71.059765  \n",
       "413670  42.361839 -71.059765  \n",
       "413671  42.302333 -71.111565  \n",
       "\n",
       "[413672 rows x 13 columns]"
      ]
     },
     "execution_count": 93,
     "metadata": {},
     "output_type": "execute_result"
    }
   ],
   "source": [
    "clean_crime"
   ]
  },
  {
   "cell_type": "markdown",
   "metadata": {},
   "source": [
    "# data visualization\n",
    "* qualitative data - also known as categorical data"
   ]
  },
  {
   "cell_type": "code",
   "execution_count": 109,
   "metadata": {},
   "outputs": [],
   "source": [
    "import matplotlib.pyplot as plt\n",
    "import seaborn as sn\n",
    "import numpy as np"
   ]
  },
  {
   "cell_type": "code",
   "execution_count": 98,
   "metadata": {},
   "outputs": [
    {
     "data": {
      "text/html": [
       "<div>\n",
       "<style scoped>\n",
       "    .dataframe tbody tr th:only-of-type {\n",
       "        vertical-align: middle;\n",
       "    }\n",
       "\n",
       "    .dataframe tbody tr th {\n",
       "        vertical-align: top;\n",
       "    }\n",
       "\n",
       "    .dataframe thead th {\n",
       "        text-align: right;\n",
       "    }\n",
       "</style>\n",
       "<table border=\"1\" class=\"dataframe\">\n",
       "  <thead>\n",
       "    <tr style=\"text-align: right;\">\n",
       "      <th></th>\n",
       "      <th>id</th>\n",
       "      <th>name</th>\n",
       "      <th>host_id</th>\n",
       "      <th>host_name</th>\n",
       "      <th>neighbourhood_group</th>\n",
       "      <th>neighbourhood</th>\n",
       "      <th>latitude</th>\n",
       "      <th>longitude</th>\n",
       "      <th>room_type</th>\n",
       "      <th>price</th>\n",
       "      <th>minimum_nights</th>\n",
       "      <th>number_of_reviews</th>\n",
       "      <th>last_review</th>\n",
       "      <th>reviews_per_month</th>\n",
       "      <th>calculated_host_listings_count</th>\n",
       "      <th>availability_365</th>\n",
       "    </tr>\n",
       "  </thead>\n",
       "  <tbody>\n",
       "    <tr>\n",
       "      <th>0</th>\n",
       "      <td>3647</td>\n",
       "      <td>THE VILLAGE OF HARLEM....NEW YORK !</td>\n",
       "      <td>4632</td>\n",
       "      <td>Elisabeth</td>\n",
       "      <td>Manhattan</td>\n",
       "      <td>Harlem</td>\n",
       "      <td>40.80902</td>\n",
       "      <td>-73.94190</td>\n",
       "      <td>Private room</td>\n",
       "      <td>150</td>\n",
       "      <td>3</td>\n",
       "      <td>0</td>\n",
       "      <td>NaN</td>\n",
       "      <td>NaN</td>\n",
       "      <td>1</td>\n",
       "      <td>365</td>\n",
       "    </tr>\n",
       "    <tr>\n",
       "      <th>1</th>\n",
       "      <td>3831</td>\n",
       "      <td>Cozy Entire Floor of Brownstone</td>\n",
       "      <td>4869</td>\n",
       "      <td>LisaRoxanne</td>\n",
       "      <td>Brooklyn</td>\n",
       "      <td>Clinton Hill</td>\n",
       "      <td>40.68514</td>\n",
       "      <td>-73.95976</td>\n",
       "      <td>Entire home/apt</td>\n",
       "      <td>89</td>\n",
       "      <td>1</td>\n",
       "      <td>279</td>\n",
       "      <td>2019-08-29</td>\n",
       "      <td>4.62</td>\n",
       "      <td>1</td>\n",
       "      <td>192</td>\n",
       "    </tr>\n",
       "    <tr>\n",
       "      <th>2</th>\n",
       "      <td>5022</td>\n",
       "      <td>Entire Apt: Spacious Studio/Loft by central park</td>\n",
       "      <td>7192</td>\n",
       "      <td>Laura</td>\n",
       "      <td>Manhattan</td>\n",
       "      <td>East Harlem</td>\n",
       "      <td>40.79851</td>\n",
       "      <td>-73.94399</td>\n",
       "      <td>Entire home/apt</td>\n",
       "      <td>80</td>\n",
       "      <td>10</td>\n",
       "      <td>9</td>\n",
       "      <td>2018-11-19</td>\n",
       "      <td>0.10</td>\n",
       "      <td>1</td>\n",
       "      <td>0</td>\n",
       "    </tr>\n",
       "    <tr>\n",
       "      <th>3</th>\n",
       "      <td>5099</td>\n",
       "      <td>Large Cozy 1 BR Apartment In Midtown East</td>\n",
       "      <td>7322</td>\n",
       "      <td>Chris</td>\n",
       "      <td>Manhattan</td>\n",
       "      <td>Murray Hill</td>\n",
       "      <td>40.74767</td>\n",
       "      <td>-73.97500</td>\n",
       "      <td>Entire home/apt</td>\n",
       "      <td>200</td>\n",
       "      <td>3</td>\n",
       "      <td>75</td>\n",
       "      <td>2019-07-21</td>\n",
       "      <td>0.59</td>\n",
       "      <td>1</td>\n",
       "      <td>13</td>\n",
       "    </tr>\n",
       "    <tr>\n",
       "      <th>4</th>\n",
       "      <td>5121</td>\n",
       "      <td>BlissArtsSpace!</td>\n",
       "      <td>7356</td>\n",
       "      <td>Garon</td>\n",
       "      <td>Brooklyn</td>\n",
       "      <td>Bedford-Stuyvesant</td>\n",
       "      <td>40.68688</td>\n",
       "      <td>-73.95596</td>\n",
       "      <td>Private room</td>\n",
       "      <td>60</td>\n",
       "      <td>45</td>\n",
       "      <td>49</td>\n",
       "      <td>2017-10-05</td>\n",
       "      <td>0.39</td>\n",
       "      <td>1</td>\n",
       "      <td>0</td>\n",
       "    </tr>\n",
       "    <tr>\n",
       "      <th>...</th>\n",
       "      <td>...</td>\n",
       "      <td>...</td>\n",
       "      <td>...</td>\n",
       "      <td>...</td>\n",
       "      <td>...</td>\n",
       "      <td>...</td>\n",
       "      <td>...</td>\n",
       "      <td>...</td>\n",
       "      <td>...</td>\n",
       "      <td>...</td>\n",
       "      <td>...</td>\n",
       "      <td>...</td>\n",
       "      <td>...</td>\n",
       "      <td>...</td>\n",
       "      <td>...</td>\n",
       "      <td>...</td>\n",
       "    </tr>\n",
       "    <tr>\n",
       "      <th>48372</th>\n",
       "      <td>38564068</td>\n",
       "      <td>Top Floor Delight</td>\n",
       "      <td>207204450</td>\n",
       "      <td>Ade</td>\n",
       "      <td>Brooklyn</td>\n",
       "      <td>Cypress Hills</td>\n",
       "      <td>40.67618</td>\n",
       "      <td>-73.90764</td>\n",
       "      <td>Entire home/apt</td>\n",
       "      <td>199</td>\n",
       "      <td>2</td>\n",
       "      <td>0</td>\n",
       "      <td>NaN</td>\n",
       "      <td>NaN</td>\n",
       "      <td>4</td>\n",
       "      <td>42</td>\n",
       "    </tr>\n",
       "    <tr>\n",
       "      <th>48373</th>\n",
       "      <td>38564524</td>\n",
       "      <td>Central Park Elegance</td>\n",
       "      <td>1567562</td>\n",
       "      <td>Maggie</td>\n",
       "      <td>Manhattan</td>\n",
       "      <td>Upper East Side</td>\n",
       "      <td>40.77326</td>\n",
       "      <td>-73.96650</td>\n",
       "      <td>Entire home/apt</td>\n",
       "      <td>175</td>\n",
       "      <td>30</td>\n",
       "      <td>0</td>\n",
       "      <td>NaN</td>\n",
       "      <td>NaN</td>\n",
       "      <td>1</td>\n",
       "      <td>263</td>\n",
       "    </tr>\n",
       "    <tr>\n",
       "      <th>48374</th>\n",
       "      <td>38566777</td>\n",
       "      <td>Quiet room available</td>\n",
       "      <td>159902221</td>\n",
       "      <td>Nancy</td>\n",
       "      <td>Brooklyn</td>\n",
       "      <td>Bushwick</td>\n",
       "      <td>40.69907</td>\n",
       "      <td>-73.93043</td>\n",
       "      <td>Private room</td>\n",
       "      <td>35</td>\n",
       "      <td>30</td>\n",
       "      <td>0</td>\n",
       "      <td>NaN</td>\n",
       "      <td>NaN</td>\n",
       "      <td>1</td>\n",
       "      <td>66</td>\n",
       "    </tr>\n",
       "    <tr>\n",
       "      <th>48375</th>\n",
       "      <td>38567542</td>\n",
       "      <td>Spacious room in Brooklyn brownstone</td>\n",
       "      <td>68905617</td>\n",
       "      <td>Eric</td>\n",
       "      <td>Brooklyn</td>\n",
       "      <td>Crown Heights</td>\n",
       "      <td>40.66986</td>\n",
       "      <td>-73.93772</td>\n",
       "      <td>Private room</td>\n",
       "      <td>79</td>\n",
       "      <td>1</td>\n",
       "      <td>0</td>\n",
       "      <td>NaN</td>\n",
       "      <td>NaN</td>\n",
       "      <td>10</td>\n",
       "      <td>322</td>\n",
       "    </tr>\n",
       "    <tr>\n",
       "      <th>48376</th>\n",
       "      <td>38568081</td>\n",
       "      <td>Petrose home by JFK, Beach &amp;St John Hosp.</td>\n",
       "      <td>293596932</td>\n",
       "      <td>Ebangha</td>\n",
       "      <td>Queens</td>\n",
       "      <td>Far Rockaway</td>\n",
       "      <td>40.60315</td>\n",
       "      <td>-73.75722</td>\n",
       "      <td>Private room</td>\n",
       "      <td>45</td>\n",
       "      <td>3</td>\n",
       "      <td>0</td>\n",
       "      <td>NaN</td>\n",
       "      <td>NaN</td>\n",
       "      <td>1</td>\n",
       "      <td>173</td>\n",
       "    </tr>\n",
       "  </tbody>\n",
       "</table>\n",
       "<p>48377 rows × 16 columns</p>\n",
       "</div>"
      ],
      "text/plain": [
       "             id                                              name    host_id  \\\n",
       "0          3647               THE VILLAGE OF HARLEM....NEW YORK !       4632   \n",
       "1          3831                   Cozy Entire Floor of Brownstone       4869   \n",
       "2          5022  Entire Apt: Spacious Studio/Loft by central park       7192   \n",
       "3          5099         Large Cozy 1 BR Apartment In Midtown East       7322   \n",
       "4          5121                                   BlissArtsSpace!       7356   \n",
       "...         ...                                               ...        ...   \n",
       "48372  38564068                                 Top Floor Delight  207204450   \n",
       "48373  38564524                             Central Park Elegance    1567562   \n",
       "48374  38566777                              Quiet room available  159902221   \n",
       "48375  38567542              Spacious room in Brooklyn brownstone   68905617   \n",
       "48376  38568081         Petrose home by JFK, Beach &St John Hosp.  293596932   \n",
       "\n",
       "         host_name neighbourhood_group       neighbourhood  latitude  \\\n",
       "0        Elisabeth           Manhattan              Harlem  40.80902   \n",
       "1      LisaRoxanne            Brooklyn        Clinton Hill  40.68514   \n",
       "2            Laura           Manhattan         East Harlem  40.79851   \n",
       "3            Chris           Manhattan         Murray Hill  40.74767   \n",
       "4            Garon            Brooklyn  Bedford-Stuyvesant  40.68688   \n",
       "...            ...                 ...                 ...       ...   \n",
       "48372          Ade            Brooklyn       Cypress Hills  40.67618   \n",
       "48373       Maggie           Manhattan     Upper East Side  40.77326   \n",
       "48374        Nancy            Brooklyn            Bushwick  40.69907   \n",
       "48375         Eric            Brooklyn       Crown Heights  40.66986   \n",
       "48376      Ebangha              Queens        Far Rockaway  40.60315   \n",
       "\n",
       "       longitude        room_type  price  minimum_nights  number_of_reviews  \\\n",
       "0      -73.94190     Private room    150               3                  0   \n",
       "1      -73.95976  Entire home/apt     89               1                279   \n",
       "2      -73.94399  Entire home/apt     80              10                  9   \n",
       "3      -73.97500  Entire home/apt    200               3                 75   \n",
       "4      -73.95596     Private room     60              45                 49   \n",
       "...          ...              ...    ...             ...                ...   \n",
       "48372  -73.90764  Entire home/apt    199               2                  0   \n",
       "48373  -73.96650  Entire home/apt    175              30                  0   \n",
       "48374  -73.93043     Private room     35              30                  0   \n",
       "48375  -73.93772     Private room     79               1                  0   \n",
       "48376  -73.75722     Private room     45               3                  0   \n",
       "\n",
       "      last_review  reviews_per_month  calculated_host_listings_count  \\\n",
       "0             NaN                NaN                               1   \n",
       "1      2019-08-29               4.62                               1   \n",
       "2      2018-11-19               0.10                               1   \n",
       "3      2019-07-21               0.59                               1   \n",
       "4      2017-10-05               0.39                               1   \n",
       "...           ...                ...                             ...   \n",
       "48372         NaN                NaN                               4   \n",
       "48373         NaN                NaN                               1   \n",
       "48374         NaN                NaN                               1   \n",
       "48375         NaN                NaN                              10   \n",
       "48376         NaN                NaN                               1   \n",
       "\n",
       "       availability_365  \n",
       "0                   365  \n",
       "1                   192  \n",
       "2                     0  \n",
       "3                    13  \n",
       "4                     0  \n",
       "...                 ...  \n",
       "48372                42  \n",
       "48373               263  \n",
       "48374                66  \n",
       "48375               322  \n",
       "48376               173  \n",
       "\n",
       "[48377 rows x 16 columns]"
      ]
     },
     "execution_count": 98,
     "metadata": {},
     "output_type": "execute_result"
    }
   ],
   "source": [
    "listing=pd.read_csv('listings.csv')\n",
    "listing"
   ]
  },
  {
   "cell_type": "code",
   "execution_count": 99,
   "metadata": {},
   "outputs": [
    {
     "data": {
      "image/png": "[encoded data removed]",
      "text/plain": [
       "<Figure size 432x288 with 1 Axes>"
      ]
     },
     "metadata": {
      "needs_background": "light"
     },
     "output_type": "display_data"
    }
   ],
   "source": [
    "sn.countplot(x='neighbourhood_group',data=listing)\n",
    "plt.show()"
   ]
  },
  {
   "cell_type": "code",
   "execution_count": 106,
   "metadata": {},
   "outputs": [
    {
     "data": {
      "text/plain": [
       "<AxesSubplot:xlabel='neighbourhood_group', ylabel='price'>"
      ]
     },
     "execution_count": 106,
     "metadata": {},
     "output_type": "execute_result"
    },
    {
     "data": {
      "image/png": "[encoded data removed]",
      "text/plain": [
       "<Figure size 432x288 with 1 Axes>"
      ]
     },
     "metadata": {
      "needs_background": "light"
     },
     "output_type": "display_data"
    }
   ],
   "source": [
    "sn.barplot(x='neighbourhood_group',y='price',data=listing)"
   ]
  },
  {
   "cell_type": "code",
   "execution_count": 108,
   "metadata": {},
   "outputs": [
    {
     "data": {
      "text/plain": [
       "<AxesSubplot:xlabel='neighbourhood_group', ylabel='price'>"
      ]
     },
     "execution_count": 108,
     "metadata": {},
     "output_type": "execute_result"
    },
    {
     "data": {
      "image/png": "[encoded data removed]",
      "text/plain": [
       "<Figure size 432x288 with 1 Axes>"
      ]
     },
     "metadata": {
      "needs_background": "light"
     },
     "output_type": "display_data"
    }
   ],
   "source": [
    "sn.barplot(x='neighbourhood_group',y='price',data=listing, ci=False)"
   ]
  },
  {
   "cell_type": "code",
   "execution_count": 112,
   "metadata": {},
   "outputs": [
    {
     "data": {
      "image/png": "[encoded data removed]",
      "text/plain": [
       "<Figure size 432x288 with 1 Axes>"
      ]
     },
     "metadata": {
      "needs_background": "light"
     },
     "output_type": "display_data"
    }
   ],
   "source": [
    "# Quantitative data-numeric data\n",
    "plt.hist(listing['price'])\n",
    "plt.xlabel('price(in US Dollars)')\n",
    "plt.show()"
   ]
  },
  {
   "cell_type": "code",
   "execution_count": 114,
   "metadata": {},
   "outputs": [
    {
     "data": {
      "image/png": "[encoded data removed]",
      "text/plain": [
       "<Figure size 432x288 with 1 Axes>"
      ]
     },
     "metadata": {
      "needs_background": "light"
     },
     "output_type": "display_data"
    }
   ],
   "source": [
    "plt.hist(listing['price'],bins=np.arange(0,1100,40))\n",
    "plt.xlabel('price(in US Dollars)')\n",
    "plt.show()"
   ]
  },
  {
   "cell_type": "code",
   "execution_count": 116,
   "metadata": {},
   "outputs": [
    {
     "data": {
      "text/plain": [
       "Text(0, 0.5, 'number of reviews')"
      ]
     },
     "execution_count": 116,
     "metadata": {},
     "output_type": "execute_result"
    },
    {
     "data": {
      "image/png": "[encoded data removed]",
      "text/plain": [
       "<Figure size 432x288 with 1 Axes>"
      ]
     },
     "metadata": {
      "needs_background": "light"
     },
     "output_type": "display_data"
    }
   ],
   "source": [
    "plt.scatter(x=listing['price'],y=listing['number_of_reviews'])\n",
    "plt.xlabel('price')\n",
    "plt.ylabel('number of reviews')"
   ]
  },
  {
   "cell_type": "code",
   "execution_count": 118,
   "metadata": {},
   "outputs": [
    {
     "data": {
      "text/plain": [
       "(0.0, 1100.0)"
      ]
     },
     "execution_count": 118,
     "metadata": {},
     "output_type": "execute_result"
    },
    {
     "data": {
      "image/png": "[encoded data removed]",
      "text/plain": [
       "<Figure size 432x288 with 1 Axes>"
      ]
     },
     "metadata": {
      "needs_background": "light"
     },
     "output_type": "display_data"
    }
   ],
   "source": [
    "plt.scatter(x=listing['price'],y=listing['number_of_reviews'])\n",
    "plt.xlabel('price')\n",
    "plt.ylabel('number of reviews')\n",
    "plt.xlim(0,1100) #limit the size of x "
   ]
  },
  {
   "cell_type": "code",
   "execution_count": 120,
   "metadata": {},
   "outputs": [
    {
     "data": {
      "text/plain": [
       "(0.0, 1100.0)"
      ]
     },
     "execution_count": 120,
     "metadata": {},
     "output_type": "execute_result"
    },
    {
     "data": {
      "image/png": "[encoded data removed]",
      "text/plain": [
       "<Figure size 432x288 with 1 Axes>"
      ]
     },
     "metadata": {
      "needs_background": "light"
     },
     "output_type": "display_data"
    }
   ],
   "source": [
    "plt.scatter(x=listing['price'],y=listing['number_of_reviews'], s=5) #s=size of point\n",
    "plt.xlabel('price')\n",
    "plt.ylabel('number of reviews')\n",
    "plt.xlim(0,1100) #limit the size of x "
   ]
  },
  {
   "cell_type": "code",
   "execution_count": null,
   "metadata": {},
   "outputs": [],
   "source": []
  }
 ],
 "metadata": {
  "kernelspec": {
   "display_name": "Python 3",
   "language": "python",
   "name": "python3"
  },
  "language_info": {
   "codemirror_mode": {
    "name": "ipython",
    "version": 3
   },
   "file_extension": ".py",
   "mimetype": "text/x-python",
   "name": "python",
   "nbconvert_exporter": "python",
   "pygments_lexer": "ipython3",
   "version": "3.8.5"
  }
 },
 "nbformat": 4,
 "nbformat_minor": 4
}
